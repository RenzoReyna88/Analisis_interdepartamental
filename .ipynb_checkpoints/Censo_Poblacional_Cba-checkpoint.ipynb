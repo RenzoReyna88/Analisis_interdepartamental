{
 "cells": [
  {
   "cell_type": "markdown",
   "id": "54ecd1b2",
   "metadata": {},
   "source": [
    "# Análisis Estadístico: Población de los Departamentos: Colón, Tulumba, Ischílin y Totoral (Datos de 2010 y 2022)\n",
    "\n",
    "\n",
    "### Autor: Renzo Reyna \n",
    "### Analista de Datos\n",
    "### https://www.desarrolladorsarmientino.com\n",
    "\n",
    "#### Datos recolectados de las bases de datos del Instituto Nacional de Estadísticas y Censo (INDEC)"
   ]
  },
  {
   "cell_type": "code",
   "execution_count": 1,
   "id": "5203361a",
   "metadata": {},
   "outputs": [],
   "source": [
    "import pandas as pd\n",
    "import numpy as np\n",
    "import plotly.graph_objects as go"
   ]
  },
  {
   "cell_type": "code",
   "execution_count": 44,
   "id": "7d2464b6",
   "metadata": {},
   "outputs": [],
   "source": [
    "# Datos del censo poblacional 2010\n",
    "data_poblacion_10= pd.read_excel('CensoPoblacional2010.xlsx', sheet_name='PoblacionPorGenero2010')\n",
    "\n",
    "# Converir CSV a dataframe\n",
    "df_poblacion_2010= pd.DataFrame(data_poblacion_10)"
   ]
  },
  {
   "cell_type": "code",
   "execution_count": 45,
   "id": "df420860",
   "metadata": {},
   "outputs": [
    {
     "data": {
      "text/html": [
       "<div>\n",
       "<style scoped>\n",
       "    .dataframe tbody tr th:only-of-type {\n",
       "        vertical-align: middle;\n",
       "    }\n",
       "\n",
       "    .dataframe tbody tr th {\n",
       "        vertical-align: top;\n",
       "    }\n",
       "\n",
       "    .dataframe thead th {\n",
       "        text-align: right;\n",
       "    }\n",
       "</style>\n",
       "<table border=\"1\" class=\"dataframe\">\n",
       "  <thead>\n",
       "    <tr style=\"text-align: right;\">\n",
       "      <th></th>\n",
       "      <th>Departamento</th>\n",
       "      <th>Masculino</th>\n",
       "      <th>Femenino</th>\n",
       "    </tr>\n",
       "  </thead>\n",
       "  <tbody>\n",
       "    <tr>\n",
       "      <th>0</th>\n",
       "      <td>Total Provincial</td>\n",
       "      <td>1605088</td>\n",
       "      <td>1703788</td>\n",
       "    </tr>\n",
       "    <tr>\n",
       "      <th>1</th>\n",
       "      <td>Calamuchita</td>\n",
       "      <td>27330</td>\n",
       "      <td>27400</td>\n",
       "    </tr>\n",
       "    <tr>\n",
       "      <th>2</th>\n",
       "      <td>Capital</td>\n",
       "      <td>634341</td>\n",
       "      <td>695263</td>\n",
       "    </tr>\n",
       "    <tr>\n",
       "      <th>3</th>\n",
       "      <td>Colón</td>\n",
       "      <td>110176</td>\n",
       "      <td>114975</td>\n",
       "    </tr>\n",
       "    <tr>\n",
       "      <th>4</th>\n",
       "      <td>Cruz del Eje</td>\n",
       "      <td>29130</td>\n",
       "      <td>29629</td>\n",
       "    </tr>\n",
       "    <tr>\n",
       "      <th>5</th>\n",
       "      <td>General Roca</td>\n",
       "      <td>18041</td>\n",
       "      <td>17604</td>\n",
       "    </tr>\n",
       "    <tr>\n",
       "      <th>6</th>\n",
       "      <td>General San Martín</td>\n",
       "      <td>62417</td>\n",
       "      <td>65037</td>\n",
       "    </tr>\n",
       "    <tr>\n",
       "      <th>7</th>\n",
       "      <td>Ischilín</td>\n",
       "      <td>15159</td>\n",
       "      <td>16153</td>\n",
       "    </tr>\n",
       "    <tr>\n",
       "      <th>8</th>\n",
       "      <td>Juárez Celman</td>\n",
       "      <td>30490</td>\n",
       "      <td>30588</td>\n",
       "    </tr>\n",
       "    <tr>\n",
       "      <th>9</th>\n",
       "      <td>Marcos Juárez</td>\n",
       "      <td>50972</td>\n",
       "      <td>53233</td>\n",
       "    </tr>\n",
       "    <tr>\n",
       "      <th>10</th>\n",
       "      <td>Minas</td>\n",
       "      <td>2433</td>\n",
       "      <td>2294</td>\n",
       "    </tr>\n",
       "    <tr>\n",
       "      <th>11</th>\n",
       "      <td>Pocho</td>\n",
       "      <td>2769</td>\n",
       "      <td>2611</td>\n",
       "    </tr>\n",
       "    <tr>\n",
       "      <th>12</th>\n",
       "      <td>Pte. Roque Sáenz Peña</td>\n",
       "      <td>17905</td>\n",
       "      <td>18377</td>\n",
       "    </tr>\n",
       "    <tr>\n",
       "      <th>13</th>\n",
       "      <td>Punilla</td>\n",
       "      <td>85270</td>\n",
       "      <td>93131</td>\n",
       "    </tr>\n",
       "    <tr>\n",
       "      <th>14</th>\n",
       "      <td>Río Cuarto</td>\n",
       "      <td>119713</td>\n",
       "      <td>126680</td>\n",
       "    </tr>\n",
       "    <tr>\n",
       "      <th>15</th>\n",
       "      <td>Río Primero</td>\n",
       "      <td>23230</td>\n",
       "      <td>23445</td>\n",
       "    </tr>\n",
       "    <tr>\n",
       "      <th>16</th>\n",
       "      <td>Río Seco</td>\n",
       "      <td>6710</td>\n",
       "      <td>6532</td>\n",
       "    </tr>\n",
       "    <tr>\n",
       "      <th>17</th>\n",
       "      <td>Río Segundo</td>\n",
       "      <td>50613</td>\n",
       "      <td>53105</td>\n",
       "    </tr>\n",
       "    <tr>\n",
       "      <th>18</th>\n",
       "      <td>San Alberto</td>\n",
       "      <td>18339</td>\n",
       "      <td>18665</td>\n",
       "    </tr>\n",
       "    <tr>\n",
       "      <th>19</th>\n",
       "      <td>San Javier</td>\n",
       "      <td>26006</td>\n",
       "      <td>27514</td>\n",
       "    </tr>\n",
       "    <tr>\n",
       "      <th>20</th>\n",
       "      <td>San Justo</td>\n",
       "      <td>101224</td>\n",
       "      <td>105083</td>\n",
       "    </tr>\n",
       "    <tr>\n",
       "      <th>21</th>\n",
       "      <td>Santa María</td>\n",
       "      <td>49230</td>\n",
       "      <td>48958</td>\n",
       "    </tr>\n",
       "    <tr>\n",
       "      <th>22</th>\n",
       "      <td>Sobremonte</td>\n",
       "      <td>2378</td>\n",
       "      <td>2213</td>\n",
       "    </tr>\n",
       "    <tr>\n",
       "      <th>23</th>\n",
       "      <td>Tercero Arriba</td>\n",
       "      <td>53148</td>\n",
       "      <td>56406</td>\n",
       "    </tr>\n",
       "    <tr>\n",
       "      <th>24</th>\n",
       "      <td>Totoral</td>\n",
       "      <td>9319</td>\n",
       "      <td>9237</td>\n",
       "    </tr>\n",
       "    <tr>\n",
       "      <th>25</th>\n",
       "      <td>Tulumba</td>\n",
       "      <td>6496</td>\n",
       "      <td>6177</td>\n",
       "    </tr>\n",
       "    <tr>\n",
       "      <th>26</th>\n",
       "      <td>Unión</td>\n",
       "      <td>52249</td>\n",
       "      <td>53478</td>\n",
       "    </tr>\n",
       "  </tbody>\n",
       "</table>\n",
       "</div>"
      ],
      "text/plain": [
       "             Departamento  Masculino  Femenino\n",
       "0        Total Provincial    1605088   1703788\n",
       "1             Calamuchita      27330     27400\n",
       "2                 Capital     634341    695263\n",
       "3                   Colón     110176    114975\n",
       "4            Cruz del Eje      29130     29629\n",
       "5            General Roca      18041     17604\n",
       "6      General San Martín      62417     65037\n",
       "7                Ischilín      15159     16153\n",
       "8           Juárez Celman      30490     30588\n",
       "9           Marcos Juárez      50972     53233\n",
       "10                  Minas       2433      2294\n",
       "11                  Pocho       2769      2611\n",
       "12  Pte. Roque Sáenz Peña      17905     18377\n",
       "13                Punilla      85270     93131\n",
       "14             Río Cuarto     119713    126680\n",
       "15            Río Primero      23230     23445\n",
       "16               Río Seco       6710      6532\n",
       "17            Río Segundo      50613     53105\n",
       "18            San Alberto      18339     18665\n",
       "19             San Javier      26006     27514\n",
       "20              San Justo     101224    105083\n",
       "21            Santa María      49230     48958\n",
       "22             Sobremonte       2378      2213\n",
       "23         Tercero Arriba      53148     56406\n",
       "24                Totoral       9319      9237\n",
       "25                Tulumba       6496      6177\n",
       "26                  Unión      52249     53478"
      ]
     },
     "execution_count": 45,
     "metadata": {},
     "output_type": "execute_result"
    }
   ],
   "source": [
    "df_poblacion_2010"
   ]
  },
  {
   "cell_type": "code",
   "execution_count": 46,
   "id": "2c95279d",
   "metadata": {},
   "outputs": [
    {
     "name": "stdout",
     "output_type": "stream",
     "text": [
      "<class 'pandas.core.frame.DataFrame'>\n",
      "RangeIndex: 27 entries, 0 to 26\n",
      "Data columns (total 3 columns):\n",
      " #   Column        Non-Null Count  Dtype \n",
      "---  ------        --------------  ----- \n",
      " 0   Departamento  27 non-null     object\n",
      " 1   Masculino     27 non-null     int64 \n",
      " 2   Femenino      27 non-null     int64 \n",
      "dtypes: int64(2), object(1)\n",
      "memory usage: 776.0+ bytes\n"
     ]
    }
   ],
   "source": [
    "# Características del dataframe\n",
    "df_poblacion_2010.info()"
   ]
  },
  {
   "cell_type": "code",
   "execution_count": 52,
   "id": "9cbfbbdc",
   "metadata": {},
   "outputs": [],
   "source": [
    "colon_pobl10= df_poblacion_2010[['Masculino', 'Femenino']].iloc[3]\n",
    "ischilin_pobl10= df_poblacion_2010[['Masculino', 'Femenino']].iloc[7]\n",
    "totoral_pobl10= df_poblacion_2010[['Masculino', 'Femenino']].iloc[24]\n",
    "tulumna_pobl10= df_poblacion_2010[['Masculino', 'Femenino']].iloc[25]"
   ]
  },
  {
   "cell_type": "code",
   "execution_count": 55,
   "id": "6d05eff0",
   "metadata": {},
   "outputs": [
    {
     "ename": "SyntaxError",
     "evalue": "unterminated string literal (detected at line 1) (3124165117.py, line 1)",
     "output_type": "error",
     "traceback": [
      "\u001b[1;36m  Cell \u001b[1;32mIn[55], line 1\u001b[1;36m\u001b[0m\n\u001b[1;33m    df_poblacion_departamento10= pd.DataFrame({Colón':colon_pobl, 'Ischílin':ischilin_pobl,\u001b[0m\n\u001b[1;37m                                                                           ^\u001b[0m\n\u001b[1;31mSyntaxError\u001b[0m\u001b[1;31m:\u001b[0m unterminated string literal (detected at line 1)\n"
     ]
    }
   ],
   "source": [
    "df_poblacion_departamento10= pd.DataFrame({Colón':colon_pobl, 'Ischílin':ischilin_pobl, \n",
    "                                         'Totoral':totoral_pobl, 'Tulumba':tulumna_pobl}, index_column=False)"
   ]
  },
  {
   "cell_type": "code",
   "execution_count": 50,
   "id": "47cb0cca",
   "metadata": {},
   "outputs": [
    {
     "data": {
      "text/html": [
       "<div>\n",
       "<style scoped>\n",
       "    .dataframe tbody tr th:only-of-type {\n",
       "        vertical-align: middle;\n",
       "    }\n",
       "\n",
       "    .dataframe tbody tr th {\n",
       "        vertical-align: top;\n",
       "    }\n",
       "\n",
       "    .dataframe thead th {\n",
       "        text-align: right;\n",
       "    }\n",
       "</style>\n",
       "<table border=\"1\" class=\"dataframe\">\n",
       "  <thead>\n",
       "    <tr style=\"text-align: right;\">\n",
       "      <th></th>\n",
       "      <th>Colón</th>\n",
       "      <th>Ischílin</th>\n",
       "      <th>Totoral</th>\n",
       "      <th>Tulumba</th>\n",
       "    </tr>\n",
       "  </thead>\n",
       "  <tbody>\n",
       "    <tr>\n",
       "      <th>Departamento</th>\n",
       "      <td>Colón</td>\n",
       "      <td>Ischilín</td>\n",
       "      <td>Totoral</td>\n",
       "      <td>Tulumba</td>\n",
       "    </tr>\n",
       "    <tr>\n",
       "      <th>Masculino</th>\n",
       "      <td>110176</td>\n",
       "      <td>15159</td>\n",
       "      <td>9319</td>\n",
       "      <td>6496</td>\n",
       "    </tr>\n",
       "    <tr>\n",
       "      <th>Femenino</th>\n",
       "      <td>114975</td>\n",
       "      <td>16153</td>\n",
       "      <td>9237</td>\n",
       "      <td>6177</td>\n",
       "    </tr>\n",
       "  </tbody>\n",
       "</table>\n",
       "</div>"
      ],
      "text/plain": [
       "               Colón  Ischílin  Totoral  Tulumba\n",
       "Departamento   Colón  Ischilín  Totoral  Tulumba\n",
       "Masculino     110176     15159     9319     6496\n",
       "Femenino      114975     16153     9237     6177"
      ]
     },
     "execution_count": 50,
     "metadata": {},
     "output_type": "execute_result"
    }
   ],
   "source": [
    "df_poblacion_departamento10\n"
   ]
  },
  {
   "cell_type": "code",
   "execution_count": 31,
   "id": "2a553591",
   "metadata": {},
   "outputs": [],
   "source": [
    "sumar_col_colon= df_poblacion_departamento10['Masculino'][0] + df_poblacion_departamento10['Femenino'][0]\n",
    "sumar_col_ischilin= df_poblacion_departamento10['Masculino'][1] + df_poblacion_departamento10['Femenino'][1]\n",
    "sumar_col_totoral= df_poblacion_departamento10['Masculino'][2] + df_poblacion_departamento10['Femenino'][2]\n",
    "sumar_col_tulumba= df_poblacion_departamento10['Masculino'][3] + df_poblacion_departamento10['Femenino'][3]"
   ]
  },
  {
   "cell_type": "code",
   "execution_count": 3,
   "id": "5740b2eb",
   "metadata": {},
   "outputs": [],
   "source": [
    "# Datos del censo poblacional 2022\n",
    "data_poblacion_22= pd.read_excel('CensoDefinitivoPoblacional2022.xlsx', sheet_name='CordobaPorDepartamentos')\n",
    "\n",
    "# Convertir CSV a dataframe\n",
    "df_poblacion_2022= pd.DataFrame(data_poblacion_22)"
   ]
  },
  {
   "cell_type": "code",
   "execution_count": 15,
   "id": "7bea1804",
   "metadata": {},
   "outputs": [
    {
     "name": "stdout",
     "output_type": "stream",
     "text": [
      "<class 'pandas.core.frame.DataFrame'>\n",
      "RangeIndex: 27 entries, 0 to 26\n",
      "Data columns (total 11 columns):\n",
      " #   Column                                  Non-Null Count  Dtype \n",
      "---  ------                                  --------------  ----- \n",
      " 0   Departamento                            27 non-null     object\n",
      " 1   Total_viviendas                         27 non-null     int64 \n",
      " 2   Total_viviendas_colectivas              27 non-null     int64 \n",
      " 3   Total_viviendas_particular              27 non-null     int64 \n",
      " 4   Hogares                                 27 non-null     int64 \n",
      " 5   Total_población                         27 non-null     int64 \n",
      " 6   Población_en_viviendas_particulares     27 non-null     int64 \n",
      " 7   Población_en_viviendas_colectivas(1)    27 non-null     int64 \n",
      " 8   Población_situación_calle(vía pública)  27 non-null     int64 \n",
      " 9   Femenino                                27 non-null     int64 \n",
      " 10  Masculino                               27 non-null     int64 \n",
      "dtypes: int64(10), object(1)\n",
      "memory usage: 2.4+ KB\n"
     ]
    }
   ],
   "source": [
    "# Características del dataframe\n",
    "df_poblacion_2022.info()"
   ]
  },
  {
   "cell_type": "code",
   "execution_count": 18,
   "id": "fcd30a98",
   "metadata": {},
   "outputs": [
    {
     "data": {
      "text/html": [
       "<div>\n",
       "<style scoped>\n",
       "    .dataframe tbody tr th:only-of-type {\n",
       "        vertical-align: middle;\n",
       "    }\n",
       "\n",
       "    .dataframe tbody tr th {\n",
       "        vertical-align: top;\n",
       "    }\n",
       "\n",
       "    .dataframe thead th {\n",
       "        text-align: right;\n",
       "    }\n",
       "</style>\n",
       "<table border=\"1\" class=\"dataframe\">\n",
       "  <thead>\n",
       "    <tr style=\"text-align: right;\">\n",
       "      <th></th>\n",
       "      <th>Departamento</th>\n",
       "      <th>Total_viviendas</th>\n",
       "      <th>Total_viviendas_colectivas</th>\n",
       "      <th>Total_viviendas_particular</th>\n",
       "      <th>Hogares</th>\n",
       "      <th>Total_población</th>\n",
       "      <th>Población_en_viviendas_particulares</th>\n",
       "      <th>Población_en_viviendas_colectivas(1)</th>\n",
       "      <th>Población_situación_calle(vía pública)</th>\n",
       "      <th>Femenino</th>\n",
       "      <th>Masculino</th>\n",
       "    </tr>\n",
       "  </thead>\n",
       "  <tbody>\n",
       "    <tr>\n",
       "      <th>0</th>\n",
       "      <td>Calamuchita</td>\n",
       "      <td>44179</td>\n",
       "      <td>79</td>\n",
       "      <td>44100</td>\n",
       "      <td>28298</td>\n",
       "      <td>75911</td>\n",
       "      <td>75462</td>\n",
       "      <td>449</td>\n",
       "      <td>0</td>\n",
       "      <td>38395</td>\n",
       "      <td>37516</td>\n",
       "    </tr>\n",
       "    <tr>\n",
       "      <th>1</th>\n",
       "      <td>Capital</td>\n",
       "      <td>613263</td>\n",
       "      <td>284</td>\n",
       "      <td>612979</td>\n",
       "      <td>553470</td>\n",
       "      <td>1505250</td>\n",
       "      <td>1498060</td>\n",
       "      <td>7090</td>\n",
       "      <td>100</td>\n",
       "      <td>789418</td>\n",
       "      <td>715832</td>\n",
       "    </tr>\n",
       "    <tr>\n",
       "      <th>2</th>\n",
       "      <td>Colón</td>\n",
       "      <td>107390</td>\n",
       "      <td>97</td>\n",
       "      <td>107293</td>\n",
       "      <td>97732</td>\n",
       "      <td>295725</td>\n",
       "      <td>294511</td>\n",
       "      <td>1213</td>\n",
       "      <td>1</td>\n",
       "      <td>151660</td>\n",
       "      <td>144065</td>\n",
       "    </tr>\n",
       "    <tr>\n",
       "      <th>3</th>\n",
       "      <td>Cruz del Eje</td>\n",
       "      <td>24366</td>\n",
       "      <td>42</td>\n",
       "      <td>24324</td>\n",
       "      <td>21425</td>\n",
       "      <td>67112</td>\n",
       "      <td>64748</td>\n",
       "      <td>2364</td>\n",
       "      <td>0</td>\n",
       "      <td>33487</td>\n",
       "      <td>33625</td>\n",
       "    </tr>\n",
       "    <tr>\n",
       "      <th>4</th>\n",
       "      <td>General Roca</td>\n",
       "      <td>15965</td>\n",
       "      <td>21</td>\n",
       "      <td>15944</td>\n",
       "      <td>13556</td>\n",
       "      <td>36242</td>\n",
       "      <td>36064</td>\n",
       "      <td>178</td>\n",
       "      <td>0</td>\n",
       "      <td>18024</td>\n",
       "      <td>18218</td>\n",
       "    </tr>\n",
       "    <tr>\n",
       "      <th>5</th>\n",
       "      <td>General San Martín</td>\n",
       "      <td>68017</td>\n",
       "      <td>49</td>\n",
       "      <td>67968</td>\n",
       "      <td>57886</td>\n",
       "      <td>154269</td>\n",
       "      <td>152397</td>\n",
       "      <td>1867</td>\n",
       "      <td>5</td>\n",
       "      <td>79053</td>\n",
       "      <td>75216</td>\n",
       "    </tr>\n",
       "    <tr>\n",
       "      <th>6</th>\n",
       "      <td>Ischilín</td>\n",
       "      <td>14213</td>\n",
       "      <td>7</td>\n",
       "      <td>14206</td>\n",
       "      <td>11660</td>\n",
       "      <td>36074</td>\n",
       "      <td>36023</td>\n",
       "      <td>51</td>\n",
       "      <td>0</td>\n",
       "      <td>18592</td>\n",
       "      <td>17482</td>\n",
       "    </tr>\n",
       "    <tr>\n",
       "      <th>7</th>\n",
       "      <td>Juárez Celman</td>\n",
       "      <td>28023</td>\n",
       "      <td>38</td>\n",
       "      <td>27985</td>\n",
       "      <td>24974</td>\n",
       "      <td>68631</td>\n",
       "      <td>68317</td>\n",
       "      <td>314</td>\n",
       "      <td>0</td>\n",
       "      <td>34743</td>\n",
       "      <td>33888</td>\n",
       "    </tr>\n",
       "    <tr>\n",
       "      <th>8</th>\n",
       "      <td>Marcos Juárez</td>\n",
       "      <td>49366</td>\n",
       "      <td>45</td>\n",
       "      <td>49321</td>\n",
       "      <td>41894</td>\n",
       "      <td>107764</td>\n",
       "      <td>107286</td>\n",
       "      <td>478</td>\n",
       "      <td>0</td>\n",
       "      <td>55282</td>\n",
       "      <td>52482</td>\n",
       "    </tr>\n",
       "    <tr>\n",
       "      <th>9</th>\n",
       "      <td>Minas</td>\n",
       "      <td>2536</td>\n",
       "      <td>1</td>\n",
       "      <td>2535</td>\n",
       "      <td>1815</td>\n",
       "      <td>4870</td>\n",
       "      <td>4855</td>\n",
       "      <td>15</td>\n",
       "      <td>0</td>\n",
       "      <td>2397</td>\n",
       "      <td>2473</td>\n",
       "    </tr>\n",
       "    <tr>\n",
       "      <th>10</th>\n",
       "      <td>Pocho</td>\n",
       "      <td>2798</td>\n",
       "      <td>11</td>\n",
       "      <td>2787</td>\n",
       "      <td>1911</td>\n",
       "      <td>5123</td>\n",
       "      <td>5070</td>\n",
       "      <td>53</td>\n",
       "      <td>0</td>\n",
       "      <td>2535</td>\n",
       "      <td>2588</td>\n",
       "    </tr>\n",
       "    <tr>\n",
       "      <th>11</th>\n",
       "      <td>Presidente Roque Sáenz Peña</td>\n",
       "      <td>16480</td>\n",
       "      <td>22</td>\n",
       "      <td>16458</td>\n",
       "      <td>14169</td>\n",
       "      <td>37726</td>\n",
       "      <td>37551</td>\n",
       "      <td>175</td>\n",
       "      <td>0</td>\n",
       "      <td>19057</td>\n",
       "      <td>18669</td>\n",
       "    </tr>\n",
       "    <tr>\n",
       "      <th>12</th>\n",
       "      <td>Punilla</td>\n",
       "      <td>107485</td>\n",
       "      <td>190</td>\n",
       "      <td>107295</td>\n",
       "      <td>82780</td>\n",
       "      <td>221273</td>\n",
       "      <td>219494</td>\n",
       "      <td>1779</td>\n",
       "      <td>0</td>\n",
       "      <td>115640</td>\n",
       "      <td>105633</td>\n",
       "    </tr>\n",
       "    <tr>\n",
       "      <th>13</th>\n",
       "      <td>Río Cuarto</td>\n",
       "      <td>126096</td>\n",
       "      <td>113</td>\n",
       "      <td>125983</td>\n",
       "      <td>105896</td>\n",
       "      <td>279923</td>\n",
       "      <td>277979</td>\n",
       "      <td>1918</td>\n",
       "      <td>26</td>\n",
       "      <td>145041</td>\n",
       "      <td>134882</td>\n",
       "    </tr>\n",
       "    <tr>\n",
       "      <th>14</th>\n",
       "      <td>Río Primero</td>\n",
       "      <td>22293</td>\n",
       "      <td>17</td>\n",
       "      <td>22276</td>\n",
       "      <td>19338</td>\n",
       "      <td>58428</td>\n",
       "      <td>58181</td>\n",
       "      <td>247</td>\n",
       "      <td>0</td>\n",
       "      <td>29513</td>\n",
       "      <td>28915</td>\n",
       "    </tr>\n",
       "    <tr>\n",
       "      <th>15</th>\n",
       "      <td>Río Seco</td>\n",
       "      <td>6492</td>\n",
       "      <td>7</td>\n",
       "      <td>6485</td>\n",
       "      <td>5150</td>\n",
       "      <td>15302</td>\n",
       "      <td>15275</td>\n",
       "      <td>27</td>\n",
       "      <td>0</td>\n",
       "      <td>7644</td>\n",
       "      <td>7658</td>\n",
       "    </tr>\n",
       "    <tr>\n",
       "      <th>16</th>\n",
       "      <td>Río Segundo</td>\n",
       "      <td>45261</td>\n",
       "      <td>52</td>\n",
       "      <td>45209</td>\n",
       "      <td>40511</td>\n",
       "      <td>113950</td>\n",
       "      <td>113311</td>\n",
       "      <td>639</td>\n",
       "      <td>0</td>\n",
       "      <td>58723</td>\n",
       "      <td>55227</td>\n",
       "    </tr>\n",
       "    <tr>\n",
       "      <th>17</th>\n",
       "      <td>San Alberto</td>\n",
       "      <td>19353</td>\n",
       "      <td>28</td>\n",
       "      <td>19325</td>\n",
       "      <td>14665</td>\n",
       "      <td>42166</td>\n",
       "      <td>42029</td>\n",
       "      <td>137</td>\n",
       "      <td>0</td>\n",
       "      <td>21584</td>\n",
       "      <td>20582</td>\n",
       "    </tr>\n",
       "    <tr>\n",
       "      <th>18</th>\n",
       "      <td>San Javier</td>\n",
       "      <td>29004</td>\n",
       "      <td>37</td>\n",
       "      <td>28967</td>\n",
       "      <td>22830</td>\n",
       "      <td>63377</td>\n",
       "      <td>62700</td>\n",
       "      <td>677</td>\n",
       "      <td>0</td>\n",
       "      <td>32845</td>\n",
       "      <td>30532</td>\n",
       "    </tr>\n",
       "    <tr>\n",
       "      <th>19</th>\n",
       "      <td>San Justo</td>\n",
       "      <td>96754</td>\n",
       "      <td>100</td>\n",
       "      <td>96654</td>\n",
       "      <td>85574</td>\n",
       "      <td>230339</td>\n",
       "      <td>228951</td>\n",
       "      <td>1384</td>\n",
       "      <td>4</td>\n",
       "      <td>117730</td>\n",
       "      <td>112609</td>\n",
       "    </tr>\n",
       "    <tr>\n",
       "      <th>20</th>\n",
       "      <td>Santa María</td>\n",
       "      <td>58851</td>\n",
       "      <td>55</td>\n",
       "      <td>58796</td>\n",
       "      <td>46836</td>\n",
       "      <td>144829</td>\n",
       "      <td>139012</td>\n",
       "      <td>5817</td>\n",
       "      <td>0</td>\n",
       "      <td>71863</td>\n",
       "      <td>72966</td>\n",
       "    </tr>\n",
       "    <tr>\n",
       "      <th>21</th>\n",
       "      <td>Sobremonte</td>\n",
       "      <td>1989</td>\n",
       "      <td>1</td>\n",
       "      <td>1988</td>\n",
       "      <td>1515</td>\n",
       "      <td>4503</td>\n",
       "      <td>4381</td>\n",
       "      <td>122</td>\n",
       "      <td>0</td>\n",
       "      <td>2248</td>\n",
       "      <td>2255</td>\n",
       "    </tr>\n",
       "    <tr>\n",
       "      <th>22</th>\n",
       "      <td>Tercero Arriba</td>\n",
       "      <td>51336</td>\n",
       "      <td>54</td>\n",
       "      <td>51282</td>\n",
       "      <td>45250</td>\n",
       "      <td>120918</td>\n",
       "      <td>120207</td>\n",
       "      <td>711</td>\n",
       "      <td>0</td>\n",
       "      <td>62495</td>\n",
       "      <td>58423</td>\n",
       "    </tr>\n",
       "    <tr>\n",
       "      <th>23</th>\n",
       "      <td>Totoral</td>\n",
       "      <td>9071</td>\n",
       "      <td>5</td>\n",
       "      <td>9066</td>\n",
       "      <td>7531</td>\n",
       "      <td>22495</td>\n",
       "      <td>22473</td>\n",
       "      <td>22</td>\n",
       "      <td>0</td>\n",
       "      <td>11294</td>\n",
       "      <td>11201</td>\n",
       "    </tr>\n",
       "    <tr>\n",
       "      <th>24</th>\n",
       "      <td>Tulumba</td>\n",
       "      <td>7055</td>\n",
       "      <td>6</td>\n",
       "      <td>7049</td>\n",
       "      <td>5147</td>\n",
       "      <td>14134</td>\n",
       "      <td>14092</td>\n",
       "      <td>42</td>\n",
       "      <td>0</td>\n",
       "      <td>7082</td>\n",
       "      <td>7052</td>\n",
       "    </tr>\n",
       "    <tr>\n",
       "      <th>25</th>\n",
       "      <td>Unión</td>\n",
       "      <td>48481</td>\n",
       "      <td>62</td>\n",
       "      <td>48419</td>\n",
       "      <td>42587</td>\n",
       "      <td>114571</td>\n",
       "      <td>113635</td>\n",
       "      <td>936</td>\n",
       "      <td>0</td>\n",
       "      <td>58165</td>\n",
       "      <td>56406</td>\n",
       "    </tr>\n",
       "    <tr>\n",
       "      <th>26</th>\n",
       "      <td>Total Provincia</td>\n",
       "      <td>1616117</td>\n",
       "      <td>1423</td>\n",
       "      <td>1614694</td>\n",
       "      <td>1394400</td>\n",
       "      <td>3840905</td>\n",
       "      <td>3812064</td>\n",
       "      <td>28705</td>\n",
       "      <td>136</td>\n",
       "      <td>1984510</td>\n",
       "      <td>1856395</td>\n",
       "    </tr>\n",
       "  </tbody>\n",
       "</table>\n",
       "</div>"
      ],
      "text/plain": [
       "                   Departamento  Total_viviendas  Total_viviendas_colectivas  \\\n",
       "0                   Calamuchita            44179                          79   \n",
       "1                       Capital           613263                         284   \n",
       "2                         Colón           107390                          97   \n",
       "3                  Cruz del Eje            24366                          42   \n",
       "4                  General Roca            15965                          21   \n",
       "5            General San Martín            68017                          49   \n",
       "6                      Ischilín            14213                           7   \n",
       "7                 Juárez Celman            28023                          38   \n",
       "8                 Marcos Juárez            49366                          45   \n",
       "9                         Minas             2536                           1   \n",
       "10                        Pocho             2798                          11   \n",
       "11  Presidente Roque Sáenz Peña            16480                          22   \n",
       "12                      Punilla           107485                         190   \n",
       "13                   Río Cuarto           126096                         113   \n",
       "14                  Río Primero            22293                          17   \n",
       "15                     Río Seco             6492                           7   \n",
       "16                  Río Segundo            45261                          52   \n",
       "17                  San Alberto            19353                          28   \n",
       "18                   San Javier            29004                          37   \n",
       "19                    San Justo            96754                         100   \n",
       "20                  Santa María            58851                          55   \n",
       "21                   Sobremonte             1989                           1   \n",
       "22               Tercero Arriba            51336                          54   \n",
       "23                      Totoral             9071                           5   \n",
       "24                      Tulumba             7055                           6   \n",
       "25                        Unión            48481                          62   \n",
       "26              Total Provincia          1616117                        1423   \n",
       "\n",
       "    Total_viviendas_particular  Hogares  Total_población  \\\n",
       "0                        44100    28298            75911   \n",
       "1                       612979   553470          1505250   \n",
       "2                       107293    97732           295725   \n",
       "3                        24324    21425            67112   \n",
       "4                        15944    13556            36242   \n",
       "5                        67968    57886           154269   \n",
       "6                        14206    11660            36074   \n",
       "7                        27985    24974            68631   \n",
       "8                        49321    41894           107764   \n",
       "9                         2535     1815             4870   \n",
       "10                        2787     1911             5123   \n",
       "11                       16458    14169            37726   \n",
       "12                      107295    82780           221273   \n",
       "13                      125983   105896           279923   \n",
       "14                       22276    19338            58428   \n",
       "15                        6485     5150            15302   \n",
       "16                       45209    40511           113950   \n",
       "17                       19325    14665            42166   \n",
       "18                       28967    22830            63377   \n",
       "19                       96654    85574           230339   \n",
       "20                       58796    46836           144829   \n",
       "21                        1988     1515             4503   \n",
       "22                       51282    45250           120918   \n",
       "23                        9066     7531            22495   \n",
       "24                        7049     5147            14134   \n",
       "25                       48419    42587           114571   \n",
       "26                     1614694  1394400          3840905   \n",
       "\n",
       "    Población_en_viviendas_particulares  Población_en_viviendas_colectivas(1)  \\\n",
       "0                                 75462                                   449   \n",
       "1                               1498060                                  7090   \n",
       "2                                294511                                  1213   \n",
       "3                                 64748                                  2364   \n",
       "4                                 36064                                   178   \n",
       "5                                152397                                  1867   \n",
       "6                                 36023                                    51   \n",
       "7                                 68317                                   314   \n",
       "8                                107286                                   478   \n",
       "9                                  4855                                    15   \n",
       "10                                 5070                                    53   \n",
       "11                                37551                                   175   \n",
       "12                               219494                                  1779   \n",
       "13                               277979                                  1918   \n",
       "14                                58181                                   247   \n",
       "15                                15275                                    27   \n",
       "16                               113311                                   639   \n",
       "17                                42029                                   137   \n",
       "18                                62700                                   677   \n",
       "19                               228951                                  1384   \n",
       "20                               139012                                  5817   \n",
       "21                                 4381                                   122   \n",
       "22                               120207                                   711   \n",
       "23                                22473                                    22   \n",
       "24                                14092                                    42   \n",
       "25                               113635                                   936   \n",
       "26                              3812064                                 28705   \n",
       "\n",
       "    Población_situación_calle(vía pública)  Femenino  Masculino  \n",
       "0                                        0     38395      37516  \n",
       "1                                      100    789418     715832  \n",
       "2                                        1    151660     144065  \n",
       "3                                        0     33487      33625  \n",
       "4                                        0     18024      18218  \n",
       "5                                        5     79053      75216  \n",
       "6                                        0     18592      17482  \n",
       "7                                        0     34743      33888  \n",
       "8                                        0     55282      52482  \n",
       "9                                        0      2397       2473  \n",
       "10                                       0      2535       2588  \n",
       "11                                       0     19057      18669  \n",
       "12                                       0    115640     105633  \n",
       "13                                      26    145041     134882  \n",
       "14                                       0     29513      28915  \n",
       "15                                       0      7644       7658  \n",
       "16                                       0     58723      55227  \n",
       "17                                       0     21584      20582  \n",
       "18                                       0     32845      30532  \n",
       "19                                       4    117730     112609  \n",
       "20                                       0     71863      72966  \n",
       "21                                       0      2248       2255  \n",
       "22                                       0     62495      58423  \n",
       "23                                       0     11294      11201  \n",
       "24                                       0      7082       7052  \n",
       "25                                       0     58165      56406  \n",
       "26                                     136   1984510    1856395  "
      ]
     },
     "execution_count": 18,
     "metadata": {},
     "output_type": "execute_result"
    }
   ],
   "source": [
    "df_poblacion_2022"
   ]
  },
  {
   "cell_type": "code",
   "execution_count": 32,
   "id": "b687e90b",
   "metadata": {},
   "outputs": [],
   "source": [
    "colon_pobl22= df_poblacion_2022[['Masculino', 'Femenino']].iloc[2]\n",
    "ischilin_pobl22= df_poblacion_2022[['Masculino', 'Femenino']].iloc[6]\n",
    "totoral_pobl22= df_poblacion_2022[['Masculino', 'Femenino']].iloc[23]\n",
    "tulumna_pobl22= df_poblacion_2022[['Masculino', 'Femenino']].iloc[24]"
   ]
  },
  {
   "cell_type": "code",
   "execution_count": 33,
   "id": "074d12fd",
   "metadata": {},
   "outputs": [],
   "source": [
    "df_poblacion_departamento22= pd.DataFrame({'Colón':colon_pobl22, 'Ischílin':ischilin_pobl22, \n",
    "                                         'Totoral':totoral_pobl22, 'Tulumba':tulumna_pobl22})"
   ]
  },
  {
   "cell_type": "code",
   "execution_count": 34,
   "id": "a7612251",
   "metadata": {},
   "outputs": [
    {
     "data": {
      "text/html": [
       "<div>\n",
       "<style scoped>\n",
       "    .dataframe tbody tr th:only-of-type {\n",
       "        vertical-align: middle;\n",
       "    }\n",
       "\n",
       "    .dataframe tbody tr th {\n",
       "        vertical-align: top;\n",
       "    }\n",
       "\n",
       "    .dataframe thead th {\n",
       "        text-align: right;\n",
       "    }\n",
       "</style>\n",
       "<table border=\"1\" class=\"dataframe\">\n",
       "  <thead>\n",
       "    <tr style=\"text-align: right;\">\n",
       "      <th></th>\n",
       "      <th>Colón</th>\n",
       "      <th>Ischílin</th>\n",
       "      <th>Totoral</th>\n",
       "      <th>Tulumba</th>\n",
       "    </tr>\n",
       "  </thead>\n",
       "  <tbody>\n",
       "    <tr>\n",
       "      <th>Masculino</th>\n",
       "      <td>144065</td>\n",
       "      <td>17482</td>\n",
       "      <td>11201</td>\n",
       "      <td>7052</td>\n",
       "    </tr>\n",
       "    <tr>\n",
       "      <th>Femenino</th>\n",
       "      <td>151660</td>\n",
       "      <td>18592</td>\n",
       "      <td>11294</td>\n",
       "      <td>7082</td>\n",
       "    </tr>\n",
       "  </tbody>\n",
       "</table>\n",
       "</div>"
      ],
      "text/plain": [
       "            Colón  Ischílin  Totoral  Tulumba\n",
       "Masculino  144065     17482    11201     7052\n",
       "Femenino   151660     18592    11294     7082"
      ]
     },
     "execution_count": 34,
     "metadata": {},
     "output_type": "execute_result"
    }
   ],
   "source": [
    "df_poblacion_departamento22"
   ]
  },
  {
   "cell_type": "code",
   "execution_count": 35,
   "id": "e3e1d627",
   "metadata": {},
   "outputs": [],
   "source": [
    "sumar_col_colon22= np.sum(df_poblacion_departamento22['Colón'])\n",
    "sumar_col_ischilin22= np.sum(df_poblacion_departamento22['Ischílin'])\n",
    "sumar_col_totoral22= np.sum(df_poblacion_departamento22['Totoral'])\n",
    "sumar_col_tulumba22= np.sum(df_poblacion_departamento22['Tulumba'])"
   ]
  },
  {
   "cell_type": "code",
   "execution_count": 37,
   "id": "85bfd6e5",
   "metadata": {},
   "outputs": [
    {
     "name": "stdout",
     "output_type": "stream",
     "text": [
      "Cantidad de habitantes 2010 - 2022\n",
      "\n",
      "Departamento colón: 225151 - 295725\n",
      "Departamento Ischílin: 31312 - 36074\n",
      "Departamento Totoral: 18556 - 22495\n",
      "Departamento Tulumba: 12673 - 14134\n"
     ]
    }
   ],
   "source": [
    "#Habitantes en el censo del 2010 y en el censo 2022\n",
    "print('Cantidad de habitantes 2010 - 2022\\n')\n",
    "print(f'Departamento colón: {sumar_col_colon} - {sumar_col_colon22}')\n",
    "print(f'Departamento Ischílin: {sumar_col_ischilin} - {sumar_col_ischilin22}')\n",
    "print(f'Departamento Totoral: {sumar_col_totoral} - {sumar_col_totoral22}')\n",
    "print(f'Departamento Tulumba: {sumar_col_tulumba} - {sumar_col_tulumba22}')\n"
   ]
  },
  {
   "cell_type": "code",
   "execution_count": 38,
   "id": "612fa275",
   "metadata": {},
   "outputs": [
    {
     "name": "stdout",
     "output_type": "stream",
     "text": [
      "Tasa de crecimiento del Departamento Colón: 31.35%\n",
      "Tasa de crecimiento del Departamento Ischílin: 15.21%\n",
      "Tasa de crecimiento del Departamento Totoral: 21.23%\n",
      "Tasa de crecimiento del Departamento Tulumba: 11.53%\n"
     ]
    }
   ],
   "source": [
    "#Calculo de Tasa de Crecimiento Poblacional\n",
    "tasa_crecimiento_colon= ((sumar_col_colon22 - sumar_col_colon) / sumar_col_colon*100)\n",
    "tasa_crecimiento_ischilin= ((sumar_col_ischilin22 - sumar_col_ischilin) / sumar_col_ischilin*100)\n",
    "tasa_crecimiento_totoral= ((sumar_col_totoral22 - sumar_col_totoral) / sumar_col_totoral*100  )\n",
    "tasa_crecimiento_tulumba= ((sumar_col_tulumba22 - sumar_col_tulumba) / sumar_col_tulumba*100)\n",
    "\n",
    "print(f\"Tasa de crecimiento del Departamento Colón: {tasa_crecimiento_colon:.2f}%\")\n",
    "print(f\"Tasa de crecimiento del Departamento Ischílin: {tasa_crecimiento_ischilin:.2f}%\")\n",
    "print(f\"Tasa de crecimiento del Departamento Totoral: {tasa_crecimiento_totoral:.2f}%\")\n",
    "print(f\"Tasa de crecimiento del Departamento Tulumba: {tasa_crecimiento_tulumba:.2f}%\")\n"
   ]
  },
  {
   "cell_type": "code",
   "execution_count": 69,
   "id": "b9323466",
   "metadata": {},
   "outputs": [
    {
     "data": {
      "application/vnd.plotly.v1+json": {
       "config": {
        "plotlyServerURL": "https://plot.ly"
       },
       "data": [
        {
         "domain": {
          "x": [
           0,
           0.45
          ],
          "y": [
           0,
           1
          ]
         },
         "labels": [
          "Departamento Colón",
          "Departamento Ischilín",
          "Departamento Totoral",
          "Departamento Tulumba"
         ],
         "scalegroup": "one",
         "type": "pie",
         "values": [
          225151,
          31312,
          18556,
          12673
         ]
        },
        {
         "domain": {
          "x": [
           0.55,
           1
          ],
          "y": [
           0,
           1
          ]
         },
         "labels": [
          "Departamento Colón",
          "Departamento Ischilín",
          "Departamento Totoral",
          "Departamento Tulumba"
         ],
         "scalegroup": "one",
         "type": "pie",
         "values": [
          295725,
          36074,
          22495,
          14134
         ]
        }
       ],
       "layout": {
        "annotations": [
         {
          "font": {
           "size": 16
          },
          "showarrow": false,
          "text": "Población 2010",
          "x": 0.225,
          "xanchor": "center",
          "xref": "paper",
          "y": 1,
          "yanchor": "bottom",
          "yref": "paper"
         },
         {
          "font": {
           "size": 16
          },
          "showarrow": false,
          "text": " Población 2022",
          "x": 0.775,
          "xanchor": "center",
          "xref": "paper",
          "y": 1,
          "yanchor": "bottom",
          "yref": "paper"
         },
         {
          "align": "center",
          "font": {
           "color": "#333333",
           "family": "Arial, italic",
           "size": 15
          },
          "showarrow": false,
          "text": "Gráfico: desarrolladorsarmientino.com\n ",
          "x": 0.5,
          "xref": "paper",
          "y": -0.19,
          "yref": "paper"
         }
        ],
        "font": {
         "color": "#333333",
         "family": "Arial, italic",
         "size": 12
        },
        "template": {
         "data": {
          "bar": [
           {
            "error_x": {
             "color": "#2a3f5f"
            },
            "error_y": {
             "color": "#2a3f5f"
            },
            "marker": {
             "line": {
              "color": "#E5ECF6",
              "width": 0.5
             },
             "pattern": {
              "fillmode": "overlay",
              "size": 10,
              "solidity": 0.2
             }
            },
            "type": "bar"
           }
          ],
          "barpolar": [
           {
            "marker": {
             "line": {
              "color": "#E5ECF6",
              "width": 0.5
             },
             "pattern": {
              "fillmode": "overlay",
              "size": 10,
              "solidity": 0.2
             }
            },
            "type": "barpolar"
           }
          ],
          "carpet": [
           {
            "aaxis": {
             "endlinecolor": "#2a3f5f",
             "gridcolor": "white",
             "linecolor": "white",
             "minorgridcolor": "white",
             "startlinecolor": "#2a3f5f"
            },
            "baxis": {
             "endlinecolor": "#2a3f5f",
             "gridcolor": "white",
             "linecolor": "white",
             "minorgridcolor": "white",
             "startlinecolor": "#2a3f5f"
            },
            "type": "carpet"
           }
          ],
          "choropleth": [
           {
            "colorbar": {
             "outlinewidth": 0,
             "ticks": ""
            },
            "type": "choropleth"
           }
          ],
          "contour": [
           {
            "colorbar": {
             "outlinewidth": 0,
             "ticks": ""
            },
            "colorscale": [
             [
              0,
              "#0d0887"
             ],
             [
              0.1111111111111111,
              "#46039f"
             ],
             [
              0.2222222222222222,
              "#7201a8"
             ],
             [
              0.3333333333333333,
              "#9c179e"
             ],
             [
              0.4444444444444444,
              "#bd3786"
             ],
             [
              0.5555555555555556,
              "#d8576b"
             ],
             [
              0.6666666666666666,
              "#ed7953"
             ],
             [
              0.7777777777777778,
              "#fb9f3a"
             ],
             [
              0.8888888888888888,
              "#fdca26"
             ],
             [
              1,
              "#f0f921"
             ]
            ],
            "type": "contour"
           }
          ],
          "contourcarpet": [
           {
            "colorbar": {
             "outlinewidth": 0,
             "ticks": ""
            },
            "type": "contourcarpet"
           }
          ],
          "heatmap": [
           {
            "colorbar": {
             "outlinewidth": 0,
             "ticks": ""
            },
            "colorscale": [
             [
              0,
              "#0d0887"
             ],
             [
              0.1111111111111111,
              "#46039f"
             ],
             [
              0.2222222222222222,
              "#7201a8"
             ],
             [
              0.3333333333333333,
              "#9c179e"
             ],
             [
              0.4444444444444444,
              "#bd3786"
             ],
             [
              0.5555555555555556,
              "#d8576b"
             ],
             [
              0.6666666666666666,
              "#ed7953"
             ],
             [
              0.7777777777777778,
              "#fb9f3a"
             ],
             [
              0.8888888888888888,
              "#fdca26"
             ],
             [
              1,
              "#f0f921"
             ]
            ],
            "type": "heatmap"
           }
          ],
          "heatmapgl": [
           {
            "colorbar": {
             "outlinewidth": 0,
             "ticks": ""
            },
            "colorscale": [
             [
              0,
              "#0d0887"
             ],
             [
              0.1111111111111111,
              "#46039f"
             ],
             [
              0.2222222222222222,
              "#7201a8"
             ],
             [
              0.3333333333333333,
              "#9c179e"
             ],
             [
              0.4444444444444444,
              "#bd3786"
             ],
             [
              0.5555555555555556,
              "#d8576b"
             ],
             [
              0.6666666666666666,
              "#ed7953"
             ],
             [
              0.7777777777777778,
              "#fb9f3a"
             ],
             [
              0.8888888888888888,
              "#fdca26"
             ],
             [
              1,
              "#f0f921"
             ]
            ],
            "type": "heatmapgl"
           }
          ],
          "histogram": [
           {
            "marker": {
             "pattern": {
              "fillmode": "overlay",
              "size": 10,
              "solidity": 0.2
             }
            },
            "type": "histogram"
           }
          ],
          "histogram2d": [
           {
            "colorbar": {
             "outlinewidth": 0,
             "ticks": ""
            },
            "colorscale": [
             [
              0,
              "#0d0887"
             ],
             [
              0.1111111111111111,
              "#46039f"
             ],
             [
              0.2222222222222222,
              "#7201a8"
             ],
             [
              0.3333333333333333,
              "#9c179e"
             ],
             [
              0.4444444444444444,
              "#bd3786"
             ],
             [
              0.5555555555555556,
              "#d8576b"
             ],
             [
              0.6666666666666666,
              "#ed7953"
             ],
             [
              0.7777777777777778,
              "#fb9f3a"
             ],
             [
              0.8888888888888888,
              "#fdca26"
             ],
             [
              1,
              "#f0f921"
             ]
            ],
            "type": "histogram2d"
           }
          ],
          "histogram2dcontour": [
           {
            "colorbar": {
             "outlinewidth": 0,
             "ticks": ""
            },
            "colorscale": [
             [
              0,
              "#0d0887"
             ],
             [
              0.1111111111111111,
              "#46039f"
             ],
             [
              0.2222222222222222,
              "#7201a8"
             ],
             [
              0.3333333333333333,
              "#9c179e"
             ],
             [
              0.4444444444444444,
              "#bd3786"
             ],
             [
              0.5555555555555556,
              "#d8576b"
             ],
             [
              0.6666666666666666,
              "#ed7953"
             ],
             [
              0.7777777777777778,
              "#fb9f3a"
             ],
             [
              0.8888888888888888,
              "#fdca26"
             ],
             [
              1,
              "#f0f921"
             ]
            ],
            "type": "histogram2dcontour"
           }
          ],
          "mesh3d": [
           {
            "colorbar": {
             "outlinewidth": 0,
             "ticks": ""
            },
            "type": "mesh3d"
           }
          ],
          "parcoords": [
           {
            "line": {
             "colorbar": {
              "outlinewidth": 0,
              "ticks": ""
             }
            },
            "type": "parcoords"
           }
          ],
          "pie": [
           {
            "automargin": true,
            "type": "pie"
           }
          ],
          "scatter": [
           {
            "fillpattern": {
             "fillmode": "overlay",
             "size": 10,
             "solidity": 0.2
            },
            "type": "scatter"
           }
          ],
          "scatter3d": [
           {
            "line": {
             "colorbar": {
              "outlinewidth": 0,
              "ticks": ""
             }
            },
            "marker": {
             "colorbar": {
              "outlinewidth": 0,
              "ticks": ""
             }
            },
            "type": "scatter3d"
           }
          ],
          "scattercarpet": [
           {
            "marker": {
             "colorbar": {
              "outlinewidth": 0,
              "ticks": ""
             }
            },
            "type": "scattercarpet"
           }
          ],
          "scattergeo": [
           {
            "marker": {
             "colorbar": {
              "outlinewidth": 0,
              "ticks": ""
             }
            },
            "type": "scattergeo"
           }
          ],
          "scattergl": [
           {
            "marker": {
             "colorbar": {
              "outlinewidth": 0,
              "ticks": ""
             }
            },
            "type": "scattergl"
           }
          ],
          "scattermapbox": [
           {
            "marker": {
             "colorbar": {
              "outlinewidth": 0,
              "ticks": ""
             }
            },
            "type": "scattermapbox"
           }
          ],
          "scatterpolar": [
           {
            "marker": {
             "colorbar": {
              "outlinewidth": 0,
              "ticks": ""
             }
            },
            "type": "scatterpolar"
           }
          ],
          "scatterpolargl": [
           {
            "marker": {
             "colorbar": {
              "outlinewidth": 0,
              "ticks": ""
             }
            },
            "type": "scatterpolargl"
           }
          ],
          "scatterternary": [
           {
            "marker": {
             "colorbar": {
              "outlinewidth": 0,
              "ticks": ""
             }
            },
            "type": "scatterternary"
           }
          ],
          "surface": [
           {
            "colorbar": {
             "outlinewidth": 0,
             "ticks": ""
            },
            "colorscale": [
             [
              0,
              "#0d0887"
             ],
             [
              0.1111111111111111,
              "#46039f"
             ],
             [
              0.2222222222222222,
              "#7201a8"
             ],
             [
              0.3333333333333333,
              "#9c179e"
             ],
             [
              0.4444444444444444,
              "#bd3786"
             ],
             [
              0.5555555555555556,
              "#d8576b"
             ],
             [
              0.6666666666666666,
              "#ed7953"
             ],
             [
              0.7777777777777778,
              "#fb9f3a"
             ],
             [
              0.8888888888888888,
              "#fdca26"
             ],
             [
              1,
              "#f0f921"
             ]
            ],
            "type": "surface"
           }
          ],
          "table": [
           {
            "cells": {
             "fill": {
              "color": "#EBF0F8"
             },
             "line": {
              "color": "white"
             }
            },
            "header": {
             "fill": {
              "color": "#C8D4E3"
             },
             "line": {
              "color": "white"
             }
            },
            "type": "table"
           }
          ]
         },
         "layout": {
          "annotationdefaults": {
           "arrowcolor": "#2a3f5f",
           "arrowhead": 0,
           "arrowwidth": 1
          },
          "autotypenumbers": "strict",
          "coloraxis": {
           "colorbar": {
            "outlinewidth": 0,
            "ticks": ""
           }
          },
          "colorscale": {
           "diverging": [
            [
             0,
             "#8e0152"
            ],
            [
             0.1,
             "#c51b7d"
            ],
            [
             0.2,
             "#de77ae"
            ],
            [
             0.3,
             "#f1b6da"
            ],
            [
             0.4,
             "#fde0ef"
            ],
            [
             0.5,
             "#f7f7f7"
            ],
            [
             0.6,
             "#e6f5d0"
            ],
            [
             0.7,
             "#b8e186"
            ],
            [
             0.8,
             "#7fbc41"
            ],
            [
             0.9,
             "#4d9221"
            ],
            [
             1,
             "#276419"
            ]
           ],
           "sequential": [
            [
             0,
             "#0d0887"
            ],
            [
             0.1111111111111111,
             "#46039f"
            ],
            [
             0.2222222222222222,
             "#7201a8"
            ],
            [
             0.3333333333333333,
             "#9c179e"
            ],
            [
             0.4444444444444444,
             "#bd3786"
            ],
            [
             0.5555555555555556,
             "#d8576b"
            ],
            [
             0.6666666666666666,
             "#ed7953"
            ],
            [
             0.7777777777777778,
             "#fb9f3a"
            ],
            [
             0.8888888888888888,
             "#fdca26"
            ],
            [
             1,
             "#f0f921"
            ]
           ],
           "sequentialminus": [
            [
             0,
             "#0d0887"
            ],
            [
             0.1111111111111111,
             "#46039f"
            ],
            [
             0.2222222222222222,
             "#7201a8"
            ],
            [
             0.3333333333333333,
             "#9c179e"
            ],
            [
             0.4444444444444444,
             "#bd3786"
            ],
            [
             0.5555555555555556,
             "#d8576b"
            ],
            [
             0.6666666666666666,
             "#ed7953"
            ],
            [
             0.7777777777777778,
             "#fb9f3a"
            ],
            [
             0.8888888888888888,
             "#fdca26"
            ],
            [
             1,
             "#f0f921"
            ]
           ]
          },
          "colorway": [
           "#636efa",
           "#EF553B",
           "#00cc96",
           "#ab63fa",
           "#FFA15A",
           "#19d3f3",
           "#FF6692",
           "#B6E880",
           "#FF97FF",
           "#FECB52"
          ],
          "font": {
           "color": "#2a3f5f"
          },
          "geo": {
           "bgcolor": "white",
           "lakecolor": "white",
           "landcolor": "#E5ECF6",
           "showlakes": true,
           "showland": true,
           "subunitcolor": "white"
          },
          "hoverlabel": {
           "align": "left"
          },
          "hovermode": "closest",
          "mapbox": {
           "style": "light"
          },
          "paper_bgcolor": "white",
          "plot_bgcolor": "#E5ECF6",
          "polar": {
           "angularaxis": {
            "gridcolor": "white",
            "linecolor": "white",
            "ticks": ""
           },
           "bgcolor": "#E5ECF6",
           "radialaxis": {
            "gridcolor": "white",
            "linecolor": "white",
            "ticks": ""
           }
          },
          "scene": {
           "xaxis": {
            "backgroundcolor": "#E5ECF6",
            "gridcolor": "white",
            "gridwidth": 2,
            "linecolor": "white",
            "showbackground": true,
            "ticks": "",
            "zerolinecolor": "white"
           },
           "yaxis": {
            "backgroundcolor": "#E5ECF6",
            "gridcolor": "white",
            "gridwidth": 2,
            "linecolor": "white",
            "showbackground": true,
            "ticks": "",
            "zerolinecolor": "white"
           },
           "zaxis": {
            "backgroundcolor": "#E5ECF6",
            "gridcolor": "white",
            "gridwidth": 2,
            "linecolor": "white",
            "showbackground": true,
            "ticks": "",
            "zerolinecolor": "white"
           }
          },
          "shapedefaults": {
           "line": {
            "color": "#2a3f5f"
           }
          },
          "ternary": {
           "aaxis": {
            "gridcolor": "white",
            "linecolor": "white",
            "ticks": ""
           },
           "baxis": {
            "gridcolor": "white",
            "linecolor": "white",
            "ticks": ""
           },
           "bgcolor": "#E5ECF6",
           "caxis": {
            "gridcolor": "white",
            "linecolor": "white",
            "ticks": ""
           }
          },
          "title": {
           "x": 0.05
          },
          "xaxis": {
           "automargin": true,
           "gridcolor": "white",
           "linecolor": "white",
           "ticks": "",
           "title": {
            "standoff": 15
           },
           "zerolinecolor": "white",
           "zerolinewidth": 2
          },
          "yaxis": {
           "automargin": true,
           "gridcolor": "white",
           "linecolor": "white",
           "ticks": "",
           "title": {
            "standoff": 15
           },
           "zerolinecolor": "white",
           "zerolinewidth": 2
          }
         }
        },
        "title": {
         "text": "Representación de la Población Regional por Departamento o Jurisdicción(%)"
        }
       }
      },
      "text/html": [
       "<div>                            <div id=\"53cc4efa-65da-4706-9583-0b17b3aaf934\" class=\"plotly-graph-div\" style=\"height:525px; width:100%;\"></div>            <script type=\"text/javascript\">                require([\"plotly\"], function(Plotly) {                    window.PLOTLYENV=window.PLOTLYENV || {};                                    if (document.getElementById(\"53cc4efa-65da-4706-9583-0b17b3aaf934\")) {                    Plotly.newPlot(                        \"53cc4efa-65da-4706-9583-0b17b3aaf934\",                        [{\"labels\":[\"Departamento Col\\u00f3n\",\"Departamento Ischil\\u00edn\",\"Departamento Totoral\",\"Departamento Tulumba\"],\"scalegroup\":\"one\",\"values\":[225151,31312,18556,12673],\"type\":\"pie\",\"domain\":{\"x\":[0.0,0.45],\"y\":[0.0,1.0]}},{\"labels\":[\"Departamento Col\\u00f3n\",\"Departamento Ischil\\u00edn\",\"Departamento Totoral\",\"Departamento Tulumba\"],\"scalegroup\":\"one\",\"values\":[295725.0,36074.0,22495.0,14134.0],\"type\":\"pie\",\"domain\":{\"x\":[0.55,1.0],\"y\":[0.0,1.0]}}],                        {\"template\":{\"data\":{\"histogram2dcontour\":[{\"type\":\"histogram2dcontour\",\"colorbar\":{\"outlinewidth\":0,\"ticks\":\"\"},\"colorscale\":[[0.0,\"#0d0887\"],[0.1111111111111111,\"#46039f\"],[0.2222222222222222,\"#7201a8\"],[0.3333333333333333,\"#9c179e\"],[0.4444444444444444,\"#bd3786\"],[0.5555555555555556,\"#d8576b\"],[0.6666666666666666,\"#ed7953\"],[0.7777777777777778,\"#fb9f3a\"],[0.8888888888888888,\"#fdca26\"],[1.0,\"#f0f921\"]]}],\"choropleth\":[{\"type\":\"choropleth\",\"colorbar\":{\"outlinewidth\":0,\"ticks\":\"\"}}],\"histogram2d\":[{\"type\":\"histogram2d\",\"colorbar\":{\"outlinewidth\":0,\"ticks\":\"\"},\"colorscale\":[[0.0,\"#0d0887\"],[0.1111111111111111,\"#46039f\"],[0.2222222222222222,\"#7201a8\"],[0.3333333333333333,\"#9c179e\"],[0.4444444444444444,\"#bd3786\"],[0.5555555555555556,\"#d8576b\"],[0.6666666666666666,\"#ed7953\"],[0.7777777777777778,\"#fb9f3a\"],[0.8888888888888888,\"#fdca26\"],[1.0,\"#f0f921\"]]}],\"heatmap\":[{\"type\":\"heatmap\",\"colorbar\":{\"outlinewidth\":0,\"ticks\":\"\"},\"colorscale\":[[0.0,\"#0d0887\"],[0.1111111111111111,\"#46039f\"],[0.2222222222222222,\"#7201a8\"],[0.3333333333333333,\"#9c179e\"],[0.4444444444444444,\"#bd3786\"],[0.5555555555555556,\"#d8576b\"],[0.6666666666666666,\"#ed7953\"],[0.7777777777777778,\"#fb9f3a\"],[0.8888888888888888,\"#fdca26\"],[1.0,\"#f0f921\"]]}],\"heatmapgl\":[{\"type\":\"heatmapgl\",\"colorbar\":{\"outlinewidth\":0,\"ticks\":\"\"},\"colorscale\":[[0.0,\"#0d0887\"],[0.1111111111111111,\"#46039f\"],[0.2222222222222222,\"#7201a8\"],[0.3333333333333333,\"#9c179e\"],[0.4444444444444444,\"#bd3786\"],[0.5555555555555556,\"#d8576b\"],[0.6666666666666666,\"#ed7953\"],[0.7777777777777778,\"#fb9f3a\"],[0.8888888888888888,\"#fdca26\"],[1.0,\"#f0f921\"]]}],\"contourcarpet\":[{\"type\":\"contourcarpet\",\"colorbar\":{\"outlinewidth\":0,\"ticks\":\"\"}}],\"contour\":[{\"type\":\"contour\",\"colorbar\":{\"outlinewidth\":0,\"ticks\":\"\"},\"colorscale\":[[0.0,\"#0d0887\"],[0.1111111111111111,\"#46039f\"],[0.2222222222222222,\"#7201a8\"],[0.3333333333333333,\"#9c179e\"],[0.4444444444444444,\"#bd3786\"],[0.5555555555555556,\"#d8576b\"],[0.6666666666666666,\"#ed7953\"],[0.7777777777777778,\"#fb9f3a\"],[0.8888888888888888,\"#fdca26\"],[1.0,\"#f0f921\"]]}],\"surface\":[{\"type\":\"surface\",\"colorbar\":{\"outlinewidth\":0,\"ticks\":\"\"},\"colorscale\":[[0.0,\"#0d0887\"],[0.1111111111111111,\"#46039f\"],[0.2222222222222222,\"#7201a8\"],[0.3333333333333333,\"#9c179e\"],[0.4444444444444444,\"#bd3786\"],[0.5555555555555556,\"#d8576b\"],[0.6666666666666666,\"#ed7953\"],[0.7777777777777778,\"#fb9f3a\"],[0.8888888888888888,\"#fdca26\"],[1.0,\"#f0f921\"]]}],\"mesh3d\":[{\"type\":\"mesh3d\",\"colorbar\":{\"outlinewidth\":0,\"ticks\":\"\"}}],\"scatter\":[{\"fillpattern\":{\"fillmode\":\"overlay\",\"size\":10,\"solidity\":0.2},\"type\":\"scatter\"}],\"parcoords\":[{\"type\":\"parcoords\",\"line\":{\"colorbar\":{\"outlinewidth\":0,\"ticks\":\"\"}}}],\"scatterpolargl\":[{\"type\":\"scatterpolargl\",\"marker\":{\"colorbar\":{\"outlinewidth\":0,\"ticks\":\"\"}}}],\"bar\":[{\"error_x\":{\"color\":\"#2a3f5f\"},\"error_y\":{\"color\":\"#2a3f5f\"},\"marker\":{\"line\":{\"color\":\"#E5ECF6\",\"width\":0.5},\"pattern\":{\"fillmode\":\"overlay\",\"size\":10,\"solidity\":0.2}},\"type\":\"bar\"}],\"scattergeo\":[{\"type\":\"scattergeo\",\"marker\":{\"colorbar\":{\"outlinewidth\":0,\"ticks\":\"\"}}}],\"scatterpolar\":[{\"type\":\"scatterpolar\",\"marker\":{\"colorbar\":{\"outlinewidth\":0,\"ticks\":\"\"}}}],\"histogram\":[{\"marker\":{\"pattern\":{\"fillmode\":\"overlay\",\"size\":10,\"solidity\":0.2}},\"type\":\"histogram\"}],\"scattergl\":[{\"type\":\"scattergl\",\"marker\":{\"colorbar\":{\"outlinewidth\":0,\"ticks\":\"\"}}}],\"scatter3d\":[{\"type\":\"scatter3d\",\"line\":{\"colorbar\":{\"outlinewidth\":0,\"ticks\":\"\"}},\"marker\":{\"colorbar\":{\"outlinewidth\":0,\"ticks\":\"\"}}}],\"scattermapbox\":[{\"type\":\"scattermapbox\",\"marker\":{\"colorbar\":{\"outlinewidth\":0,\"ticks\":\"\"}}}],\"scatterternary\":[{\"type\":\"scatterternary\",\"marker\":{\"colorbar\":{\"outlinewidth\":0,\"ticks\":\"\"}}}],\"scattercarpet\":[{\"type\":\"scattercarpet\",\"marker\":{\"colorbar\":{\"outlinewidth\":0,\"ticks\":\"\"}}}],\"carpet\":[{\"aaxis\":{\"endlinecolor\":\"#2a3f5f\",\"gridcolor\":\"white\",\"linecolor\":\"white\",\"minorgridcolor\":\"white\",\"startlinecolor\":\"#2a3f5f\"},\"baxis\":{\"endlinecolor\":\"#2a3f5f\",\"gridcolor\":\"white\",\"linecolor\":\"white\",\"minorgridcolor\":\"white\",\"startlinecolor\":\"#2a3f5f\"},\"type\":\"carpet\"}],\"table\":[{\"cells\":{\"fill\":{\"color\":\"#EBF0F8\"},\"line\":{\"color\":\"white\"}},\"header\":{\"fill\":{\"color\":\"#C8D4E3\"},\"line\":{\"color\":\"white\"}},\"type\":\"table\"}],\"barpolar\":[{\"marker\":{\"line\":{\"color\":\"#E5ECF6\",\"width\":0.5},\"pattern\":{\"fillmode\":\"overlay\",\"size\":10,\"solidity\":0.2}},\"type\":\"barpolar\"}],\"pie\":[{\"automargin\":true,\"type\":\"pie\"}]},\"layout\":{\"autotypenumbers\":\"strict\",\"colorway\":[\"#636efa\",\"#EF553B\",\"#00cc96\",\"#ab63fa\",\"#FFA15A\",\"#19d3f3\",\"#FF6692\",\"#B6E880\",\"#FF97FF\",\"#FECB52\"],\"font\":{\"color\":\"#2a3f5f\"},\"hovermode\":\"closest\",\"hoverlabel\":{\"align\":\"left\"},\"paper_bgcolor\":\"white\",\"plot_bgcolor\":\"#E5ECF6\",\"polar\":{\"bgcolor\":\"#E5ECF6\",\"angularaxis\":{\"gridcolor\":\"white\",\"linecolor\":\"white\",\"ticks\":\"\"},\"radialaxis\":{\"gridcolor\":\"white\",\"linecolor\":\"white\",\"ticks\":\"\"}},\"ternary\":{\"bgcolor\":\"#E5ECF6\",\"aaxis\":{\"gridcolor\":\"white\",\"linecolor\":\"white\",\"ticks\":\"\"},\"baxis\":{\"gridcolor\":\"white\",\"linecolor\":\"white\",\"ticks\":\"\"},\"caxis\":{\"gridcolor\":\"white\",\"linecolor\":\"white\",\"ticks\":\"\"}},\"coloraxis\":{\"colorbar\":{\"outlinewidth\":0,\"ticks\":\"\"}},\"colorscale\":{\"sequential\":[[0.0,\"#0d0887\"],[0.1111111111111111,\"#46039f\"],[0.2222222222222222,\"#7201a8\"],[0.3333333333333333,\"#9c179e\"],[0.4444444444444444,\"#bd3786\"],[0.5555555555555556,\"#d8576b\"],[0.6666666666666666,\"#ed7953\"],[0.7777777777777778,\"#fb9f3a\"],[0.8888888888888888,\"#fdca26\"],[1.0,\"#f0f921\"]],\"sequentialminus\":[[0.0,\"#0d0887\"],[0.1111111111111111,\"#46039f\"],[0.2222222222222222,\"#7201a8\"],[0.3333333333333333,\"#9c179e\"],[0.4444444444444444,\"#bd3786\"],[0.5555555555555556,\"#d8576b\"],[0.6666666666666666,\"#ed7953\"],[0.7777777777777778,\"#fb9f3a\"],[0.8888888888888888,\"#fdca26\"],[1.0,\"#f0f921\"]],\"diverging\":[[0,\"#8e0152\"],[0.1,\"#c51b7d\"],[0.2,\"#de77ae\"],[0.3,\"#f1b6da\"],[0.4,\"#fde0ef\"],[0.5,\"#f7f7f7\"],[0.6,\"#e6f5d0\"],[0.7,\"#b8e186\"],[0.8,\"#7fbc41\"],[0.9,\"#4d9221\"],[1,\"#276419\"]]},\"xaxis\":{\"gridcolor\":\"white\",\"linecolor\":\"white\",\"ticks\":\"\",\"title\":{\"standoff\":15},\"zerolinecolor\":\"white\",\"automargin\":true,\"zerolinewidth\":2},\"yaxis\":{\"gridcolor\":\"white\",\"linecolor\":\"white\",\"ticks\":\"\",\"title\":{\"standoff\":15},\"zerolinecolor\":\"white\",\"automargin\":true,\"zerolinewidth\":2},\"scene\":{\"xaxis\":{\"backgroundcolor\":\"#E5ECF6\",\"gridcolor\":\"white\",\"linecolor\":\"white\",\"showbackground\":true,\"ticks\":\"\",\"zerolinecolor\":\"white\",\"gridwidth\":2},\"yaxis\":{\"backgroundcolor\":\"#E5ECF6\",\"gridcolor\":\"white\",\"linecolor\":\"white\",\"showbackground\":true,\"ticks\":\"\",\"zerolinecolor\":\"white\",\"gridwidth\":2},\"zaxis\":{\"backgroundcolor\":\"#E5ECF6\",\"gridcolor\":\"white\",\"linecolor\":\"white\",\"showbackground\":true,\"ticks\":\"\",\"zerolinecolor\":\"white\",\"gridwidth\":2}},\"shapedefaults\":{\"line\":{\"color\":\"#2a3f5f\"}},\"annotationdefaults\":{\"arrowcolor\":\"#2a3f5f\",\"arrowhead\":0,\"arrowwidth\":1},\"geo\":{\"bgcolor\":\"white\",\"landcolor\":\"#E5ECF6\",\"subunitcolor\":\"white\",\"showland\":true,\"showlakes\":true,\"lakecolor\":\"white\"},\"title\":{\"x\":0.05},\"mapbox\":{\"style\":\"light\"}}},\"annotations\":[{\"font\":{\"size\":16},\"showarrow\":false,\"text\":\"Poblaci\\u00f3n 2010\",\"x\":0.225,\"xanchor\":\"center\",\"xref\":\"paper\",\"y\":1.0,\"yanchor\":\"bottom\",\"yref\":\"paper\"},{\"font\":{\"size\":16},\"showarrow\":false,\"text\":\" Poblaci\\u00f3n 2022\",\"x\":0.775,\"xanchor\":\"center\",\"xref\":\"paper\",\"y\":1.0,\"yanchor\":\"bottom\",\"yref\":\"paper\"},{\"align\":\"center\",\"font\":{\"color\":\"#333333\",\"family\":\"Arial, italic\",\"size\":15},\"showarrow\":false,\"text\":\"Gr\\u00e1fico: desarrolladorsarmientino.com\\n \",\"x\":0.5,\"xref\":\"paper\",\"y\":-0.19,\"yref\":\"paper\"}],\"title\":{\"text\":\"Representaci\\u00f3n de la Poblaci\\u00f3n Regional por Departamento o Jurisdicci\\u00f3n(%)\"},\"font\":{\"size\":12,\"color\":\"#333333\",\"family\":\"Arial, italic\"}},                        {\"responsive\": true}                    ).then(function(){\n",
       "                            \n",
       "var gd = document.getElementById('53cc4efa-65da-4706-9583-0b17b3aaf934');\n",
       "var x = new MutationObserver(function (mutations, observer) {{\n",
       "        var display = window.getComputedStyle(gd).display;\n",
       "        if (!display || display === 'none') {{\n",
       "            console.log([gd, 'removed!']);\n",
       "            Plotly.purge(gd);\n",
       "            observer.disconnect();\n",
       "        }}\n",
       "}});\n",
       "\n",
       "// Listen for the removal of the full notebook cells\n",
       "var notebookContainer = gd.closest('#notebook-container');\n",
       "if (notebookContainer) {{\n",
       "    x.observe(notebookContainer, {childList: true});\n",
       "}}\n",
       "\n",
       "// Listen for the clearing of the current output cell\n",
       "var outputEl = gd.closest('.output');\n",
       "if (outputEl) {{\n",
       "    x.observe(outputEl, {childList: true});\n",
       "}}\n",
       "\n",
       "                        })                };                });            </script>        </div>"
      ]
     },
     "metadata": {},
     "output_type": "display_data"
    }
   ],
   "source": [
    "from plotly.subplots import make_subplots\n",
    "\n",
    "labels = [\"Departamento Colón\", \"Departamento Ischilín\",\"Departamento Totoral\", \"Departamento Tulumba\"]\n",
    "\n",
    "fig = make_subplots(1, 2, specs=[[{'type':'domain'}, {'type':'domain'}]],\n",
    "                    subplot_titles=['Población 2010', ' Población 2022'])\n",
    "fig.add_trace(go.Pie(labels=labels, values=[sumar_col_colon, sumar_col_ischilin, \n",
    "                                            sumar_col_totoral, sumar_col_tulumba], scalegroup='one'), 1, 1)\n",
    "fig.add_trace(go.Pie(labels=labels, values=[sumar_col_colon22, sumar_col_ischilin22, \n",
    "                                            sumar_col_totoral22, sumar_col_tulumba22], scalegroup='one'), 1, 2)\n",
    "\n",
    "# Añadir el epígrafe\n",
    "fig.add_annotation(\n",
    "    x=0.5,\n",
    "    y=-0.19,\n",
    "    text=\"Gráfico: desarrolladorsarmientino.com\\n \",\n",
    "    showarrow=False,\n",
    "    xref=\"paper\",\n",
    "    yref=\"paper\",\n",
    "    font=dict(size=15, color='#333333', family='Arial, italic'),\n",
    "    align=\"center\"\n",
    ")\n",
    "\n",
    "\n",
    "fig.update_layout(title_text='''Representación de la Población Regional por Departamento o Jurisdicción(%)''',\n",
    "                 font=dict(size=12, color='#333333', family='Arial, italic'))\n",
    "\n",
    "fig.show()"
   ]
  },
  {
   "cell_type": "code",
   "execution_count": 5,
   "id": "ca7c9985",
   "metadata": {},
   "outputs": [],
   "source": [
    "# Datos del censo 2022 según tenencia de dispositivos y acceso a internet\n",
    "data_pobl_conex_colon= pd.read_excel('PoblacionPorConexionInternet2022.xlsx', sheet_name='Colon')\n",
    "\n",
    "data_pobl_conex_ischilin= pd.read_excel('PoblacionPorConexionInternet2022.xlsx', sheet_name='Ischilin')\n",
    "\n",
    "data_pobl_conex_totoral= pd.read_excel('PoblacionPorConexionInternet2022.xlsx', sheet_name='Totoral')\n",
    "\n",
    "data_pobl_conex_tulumba= pd.read_excel('PoblacionPorConexionInternet2022.xlsx', sheet_name='Tulumba')\n",
    "\n",
    "\n",
    "# Convertir CSV a dataframes\n",
    "df_pobl_conex_colon= pd.DataFrame(data_pobl_conex_colon)\n",
    "\n",
    "df_pobl_conex_ischilin= pd.DataFrame(data_pobl_conex_ischilin)\n",
    "\n",
    "df_pobl_conex_totoral= pd.DataFrame(data_pobl_conex_totoral)\n",
    "\n",
    "df_pobl_conex_tulumba= pd.DataFrame(data_pobl_conex_tulumba)"
   ]
  },
  {
   "cell_type": "code",
   "execution_count": 6,
   "id": "d96d704f",
   "metadata": {},
   "outputs": [
    {
     "data": {
      "text/html": [
       "<div>\n",
       "<style scoped>\n",
       "    .dataframe tbody tr th:only-of-type {\n",
       "        vertical-align: middle;\n",
       "    }\n",
       "\n",
       "    .dataframe tbody tr th {\n",
       "        vertical-align: top;\n",
       "    }\n",
       "\n",
       "    .dataframe thead th {\n",
       "        text-align: right;\n",
       "    }\n",
       "</style>\n",
       "<table border=\"1\" class=\"dataframe\">\n",
       "  <thead>\n",
       "    <tr style=\"text-align: right;\">\n",
       "      <th></th>\n",
       "      <th>Tenencia_celular</th>\n",
       "      <th>Poblacion_censada</th>\n",
       "      <th>Total_con _Internet</th>\n",
       "      <th>Tiene computadora_o _tablet</th>\n",
       "      <th>No_tiene_computadora_tablet</th>\n",
       "      <th>Total_sin_internet</th>\n",
       "      <th>Tiene_computadora_tablet(1)</th>\n",
       "      <th>No_tiene_computadora_tablet(1)</th>\n",
       "    </tr>\n",
       "  </thead>\n",
       "  <tbody>\n",
       "    <tr>\n",
       "      <th>0</th>\n",
       "      <td>Tiene celular con internet</td>\n",
       "      <td>269102</td>\n",
       "      <td>224123</td>\n",
       "      <td>162185</td>\n",
       "      <td>61938</td>\n",
       "      <td>44979</td>\n",
       "      <td>9419</td>\n",
       "      <td>35560</td>\n",
       "    </tr>\n",
       "    <tr>\n",
       "      <th>1</th>\n",
       "      <td>No tiene celular con internet</td>\n",
       "      <td>25409</td>\n",
       "      <td>6377</td>\n",
       "      <td>2511</td>\n",
       "      <td>3866</td>\n",
       "      <td>19032</td>\n",
       "      <td>795</td>\n",
       "      <td>18237</td>\n",
       "    </tr>\n",
       "    <tr>\n",
       "      <th>2</th>\n",
       "      <td>Total</td>\n",
       "      <td>294511</td>\n",
       "      <td>230500</td>\n",
       "      <td>164696</td>\n",
       "      <td>65804</td>\n",
       "      <td>64011</td>\n",
       "      <td>10214</td>\n",
       "      <td>53797</td>\n",
       "    </tr>\n",
       "  </tbody>\n",
       "</table>\n",
       "</div>"
      ],
      "text/plain": [
       "                Tenencia_celular  Poblacion_censada  Total_con _Internet  \\\n",
       "0     Tiene celular con internet             269102               224123   \n",
       "1  No tiene celular con internet              25409                 6377   \n",
       "2                          Total             294511               230500   \n",
       "\n",
       "   Tiene computadora_o _tablet  No_tiene_computadora_tablet  \\\n",
       "0                       162185                        61938   \n",
       "1                         2511                         3866   \n",
       "2                       164696                        65804   \n",
       "\n",
       "   Total_sin_internet  Tiene_computadora_tablet(1)  \\\n",
       "0               44979                         9419   \n",
       "1               19032                          795   \n",
       "2               64011                        10214   \n",
       "\n",
       "   No_tiene_computadora_tablet(1)  \n",
       "0                           35560  \n",
       "1                           18237  \n",
       "2                           53797  "
      ]
     },
     "execution_count": 6,
     "metadata": {},
     "output_type": "execute_result"
    }
   ],
   "source": [
    "df_pobl_conex_colon"
   ]
  },
  {
   "cell_type": "code",
   "execution_count": 7,
   "id": "bdefbc61",
   "metadata": {},
   "outputs": [
    {
     "data": {
      "text/html": [
       "<div>\n",
       "<style scoped>\n",
       "    .dataframe tbody tr th:only-of-type {\n",
       "        vertical-align: middle;\n",
       "    }\n",
       "\n",
       "    .dataframe tbody tr th {\n",
       "        vertical-align: top;\n",
       "    }\n",
       "\n",
       "    .dataframe thead th {\n",
       "        text-align: right;\n",
       "    }\n",
       "</style>\n",
       "<table border=\"1\" class=\"dataframe\">\n",
       "  <thead>\n",
       "    <tr style=\"text-align: right;\">\n",
       "      <th></th>\n",
       "      <th>Tenencia_celular</th>\n",
       "      <th>Poblacion_censada</th>\n",
       "      <th>Total_con _Internet</th>\n",
       "      <th>Tiene computadora_o _tablet</th>\n",
       "      <th>No_tiene_computadora_tablet</th>\n",
       "      <th>Total_sin_internet</th>\n",
       "      <th>Tiene_computadora_tablet(1)</th>\n",
       "      <th>No_tiene_computadora_tablet(1)</th>\n",
       "    </tr>\n",
       "  </thead>\n",
       "  <tbody>\n",
       "    <tr>\n",
       "      <th>0</th>\n",
       "      <td>Tiene celular con internet</td>\n",
       "      <td>29433</td>\n",
       "      <td>21064</td>\n",
       "      <td>14091</td>\n",
       "      <td>6973</td>\n",
       "      <td>8369</td>\n",
       "      <td>1437</td>\n",
       "      <td>6932</td>\n",
       "    </tr>\n",
       "    <tr>\n",
       "      <th>1</th>\n",
       "      <td>No tiene celular con internet</td>\n",
       "      <td>6590</td>\n",
       "      <td>987</td>\n",
       "      <td>333</td>\n",
       "      <td>654</td>\n",
       "      <td>5603</td>\n",
       "      <td>175</td>\n",
       "      <td>5428</td>\n",
       "    </tr>\n",
       "    <tr>\n",
       "      <th>2</th>\n",
       "      <td>Total</td>\n",
       "      <td>36023</td>\n",
       "      <td>22051</td>\n",
       "      <td>14424</td>\n",
       "      <td>7627</td>\n",
       "      <td>13972</td>\n",
       "      <td>1612</td>\n",
       "      <td>12360</td>\n",
       "    </tr>\n",
       "  </tbody>\n",
       "</table>\n",
       "</div>"
      ],
      "text/plain": [
       "                Tenencia_celular  Poblacion_censada  Total_con _Internet  \\\n",
       "0     Tiene celular con internet              29433                21064   \n",
       "1  No tiene celular con internet               6590                  987   \n",
       "2                          Total              36023                22051   \n",
       "\n",
       "   Tiene computadora_o _tablet  No_tiene_computadora_tablet  \\\n",
       "0                        14091                         6973   \n",
       "1                          333                          654   \n",
       "2                        14424                         7627   \n",
       "\n",
       "   Total_sin_internet  Tiene_computadora_tablet(1)  \\\n",
       "0                8369                         1437   \n",
       "1                5603                          175   \n",
       "2               13972                         1612   \n",
       "\n",
       "   No_tiene_computadora_tablet(1)  \n",
       "0                            6932  \n",
       "1                            5428  \n",
       "2                           12360  "
      ]
     },
     "execution_count": 7,
     "metadata": {},
     "output_type": "execute_result"
    }
   ],
   "source": [
    "data_pobl_conex_ischilin"
   ]
  },
  {
   "cell_type": "code",
   "execution_count": 8,
   "id": "51185f19",
   "metadata": {},
   "outputs": [
    {
     "data": {
      "text/html": [
       "<div>\n",
       "<style scoped>\n",
       "    .dataframe tbody tr th:only-of-type {\n",
       "        vertical-align: middle;\n",
       "    }\n",
       "\n",
       "    .dataframe tbody tr th {\n",
       "        vertical-align: top;\n",
       "    }\n",
       "\n",
       "    .dataframe thead th {\n",
       "        text-align: right;\n",
       "    }\n",
       "</style>\n",
       "<table border=\"1\" class=\"dataframe\">\n",
       "  <thead>\n",
       "    <tr style=\"text-align: right;\">\n",
       "      <th></th>\n",
       "      <th>Tenencia_celular</th>\n",
       "      <th>Poblacion_censada</th>\n",
       "      <th>Total_con _Internet</th>\n",
       "      <th>Tiene computadora_o _tablet</th>\n",
       "      <th>No_tiene_computadora_tablet</th>\n",
       "      <th>Total_sin_internet</th>\n",
       "      <th>Tiene_computadora_tablet(1)</th>\n",
       "      <th>No_tiene_computadora_tablet(1)</th>\n",
       "    </tr>\n",
       "  </thead>\n",
       "  <tbody>\n",
       "    <tr>\n",
       "      <th>0</th>\n",
       "      <td>Tiene celular con internet</td>\n",
       "      <td>19731</td>\n",
       "      <td>12882</td>\n",
       "      <td>9022</td>\n",
       "      <td>3860</td>\n",
       "      <td>6849</td>\n",
       "      <td>1198</td>\n",
       "      <td>5651</td>\n",
       "    </tr>\n",
       "    <tr>\n",
       "      <th>1</th>\n",
       "      <td>No tiene celular con internet</td>\n",
       "      <td>2742</td>\n",
       "      <td>302</td>\n",
       "      <td>114</td>\n",
       "      <td>188</td>\n",
       "      <td>2440</td>\n",
       "      <td>70</td>\n",
       "      <td>2370</td>\n",
       "    </tr>\n",
       "    <tr>\n",
       "      <th>2</th>\n",
       "      <td>Total</td>\n",
       "      <td>22473</td>\n",
       "      <td>13184</td>\n",
       "      <td>9136</td>\n",
       "      <td>4048</td>\n",
       "      <td>9289</td>\n",
       "      <td>1268</td>\n",
       "      <td>8021</td>\n",
       "    </tr>\n",
       "  </tbody>\n",
       "</table>\n",
       "</div>"
      ],
      "text/plain": [
       "                Tenencia_celular  Poblacion_censada  Total_con _Internet  \\\n",
       "0     Tiene celular con internet              19731                12882   \n",
       "1  No tiene celular con internet               2742                  302   \n",
       "2                          Total              22473                13184   \n",
       "\n",
       "   Tiene computadora_o _tablet  No_tiene_computadora_tablet  \\\n",
       "0                         9022                         3860   \n",
       "1                          114                          188   \n",
       "2                         9136                         4048   \n",
       "\n",
       "   Total_sin_internet  Tiene_computadora_tablet(1)  \\\n",
       "0                6849                         1198   \n",
       "1                2440                           70   \n",
       "2                9289                         1268   \n",
       "\n",
       "   No_tiene_computadora_tablet(1)  \n",
       "0                            5651  \n",
       "1                            2370  \n",
       "2                            8021  "
      ]
     },
     "execution_count": 8,
     "metadata": {},
     "output_type": "execute_result"
    }
   ],
   "source": [
    "df_pobl_conex_totoral"
   ]
  },
  {
   "cell_type": "code",
   "execution_count": 9,
   "id": "eca06bd5",
   "metadata": {
    "scrolled": true
   },
   "outputs": [
    {
     "data": {
      "text/html": [
       "<div>\n",
       "<style scoped>\n",
       "    .dataframe tbody tr th:only-of-type {\n",
       "        vertical-align: middle;\n",
       "    }\n",
       "\n",
       "    .dataframe tbody tr th {\n",
       "        vertical-align: top;\n",
       "    }\n",
       "\n",
       "    .dataframe thead th {\n",
       "        text-align: right;\n",
       "    }\n",
       "</style>\n",
       "<table border=\"1\" class=\"dataframe\">\n",
       "  <thead>\n",
       "    <tr style=\"text-align: right;\">\n",
       "      <th></th>\n",
       "      <th>Tenencia_celular</th>\n",
       "      <th>Poblacion_censada</th>\n",
       "      <th>Total_con _Internet</th>\n",
       "      <th>Tiene computadora_o _tablet</th>\n",
       "      <th>No_tiene_computadora_tablet</th>\n",
       "      <th>Total_sin_internet</th>\n",
       "      <th>Tiene_computadora_tablet(1)</th>\n",
       "      <th>No_tiene_computadora_tablet(1)</th>\n",
       "    </tr>\n",
       "  </thead>\n",
       "  <tbody>\n",
       "    <tr>\n",
       "      <th>0</th>\n",
       "      <td>Tiene celular con internet</td>\n",
       "      <td>11213</td>\n",
       "      <td>6686</td>\n",
       "      <td>4016</td>\n",
       "      <td>2670</td>\n",
       "      <td>4527</td>\n",
       "      <td>694</td>\n",
       "      <td>3833</td>\n",
       "    </tr>\n",
       "    <tr>\n",
       "      <th>1</th>\n",
       "      <td>No tiene celular con internet</td>\n",
       "      <td>2879</td>\n",
       "      <td>214</td>\n",
       "      <td>59</td>\n",
       "      <td>155</td>\n",
       "      <td>2665</td>\n",
       "      <td>60</td>\n",
       "      <td>2605</td>\n",
       "    </tr>\n",
       "    <tr>\n",
       "      <th>2</th>\n",
       "      <td>Total</td>\n",
       "      <td>14092</td>\n",
       "      <td>6900</td>\n",
       "      <td>4075</td>\n",
       "      <td>2825</td>\n",
       "      <td>7192</td>\n",
       "      <td>754</td>\n",
       "      <td>6438</td>\n",
       "    </tr>\n",
       "  </tbody>\n",
       "</table>\n",
       "</div>"
      ],
      "text/plain": [
       "                Tenencia_celular  Poblacion_censada  Total_con _Internet  \\\n",
       "0     Tiene celular con internet              11213                 6686   \n",
       "1  No tiene celular con internet               2879                  214   \n",
       "2                          Total              14092                 6900   \n",
       "\n",
       "   Tiene computadora_o _tablet  No_tiene_computadora_tablet  \\\n",
       "0                         4016                         2670   \n",
       "1                           59                          155   \n",
       "2                         4075                         2825   \n",
       "\n",
       "   Total_sin_internet  Tiene_computadora_tablet(1)  \\\n",
       "0                4527                          694   \n",
       "1                2665                           60   \n",
       "2                7192                          754   \n",
       "\n",
       "   No_tiene_computadora_tablet(1)  \n",
       "0                            3833  \n",
       "1                            2605  \n",
       "2                            6438  "
      ]
     },
     "execution_count": 9,
     "metadata": {},
     "output_type": "execute_result"
    }
   ],
   "source": [
    "df_pobl_conex_tulumba"
   ]
  },
  {
   "cell_type": "code",
   "execution_count": 149,
   "id": "901a1776",
   "metadata": {},
   "outputs": [
    {
     "data": {
      "text/html": [
       "<div>\n",
       "<style scoped>\n",
       "    .dataframe tbody tr th:only-of-type {\n",
       "        vertical-align: middle;\n",
       "    }\n",
       "\n",
       "    .dataframe tbody tr th {\n",
       "        vertical-align: top;\n",
       "    }\n",
       "\n",
       "    .dataframe thead th {\n",
       "        text-align: right;\n",
       "    }\n",
       "</style>\n",
       "<table border=\"1\" class=\"dataframe\">\n",
       "  <thead>\n",
       "    <tr style=\"text-align: right;\">\n",
       "      <th></th>\n",
       "      <th>Departamento</th>\n",
       "      <th>Total_viviendas</th>\n",
       "      <th>Total_viviendas_colectivas</th>\n",
       "      <th>Total_viviendas_particular</th>\n",
       "      <th>Hogares</th>\n",
       "      <th>Total_población</th>\n",
       "      <th>Población_en_viviendas_particulares</th>\n",
       "      <th>Población_en_viviendas_colectivas(1)</th>\n",
       "      <th>Población_situación_calle(vía pública)</th>\n",
       "      <th>Femenino</th>\n",
       "      <th>Masculino</th>\n",
       "    </tr>\n",
       "  </thead>\n",
       "  <tbody>\n",
       "    <tr>\n",
       "      <th>Colón</th>\n",
       "      <td>Cruz del Eje</td>\n",
       "      <td>24366</td>\n",
       "      <td>42</td>\n",
       "      <td>24324</td>\n",
       "      <td>21425</td>\n",
       "      <td>67112</td>\n",
       "      <td>64748</td>\n",
       "      <td>2364</td>\n",
       "      <td>0</td>\n",
       "      <td>33487</td>\n",
       "      <td>33625</td>\n",
       "    </tr>\n",
       "    <tr>\n",
       "      <th>Ischílin</th>\n",
       "      <td>Juárez Celman</td>\n",
       "      <td>28023</td>\n",
       "      <td>38</td>\n",
       "      <td>27985</td>\n",
       "      <td>24974</td>\n",
       "      <td>68631</td>\n",
       "      <td>68317</td>\n",
       "      <td>314</td>\n",
       "      <td>0</td>\n",
       "      <td>34743</td>\n",
       "      <td>33888</td>\n",
       "    </tr>\n",
       "    <tr>\n",
       "      <th>Totoral</th>\n",
       "      <td>Tulumba</td>\n",
       "      <td>7055</td>\n",
       "      <td>6</td>\n",
       "      <td>7049</td>\n",
       "      <td>5147</td>\n",
       "      <td>14134</td>\n",
       "      <td>14092</td>\n",
       "      <td>42</td>\n",
       "      <td>0</td>\n",
       "      <td>7082</td>\n",
       "      <td>7052</td>\n",
       "    </tr>\n",
       "    <tr>\n",
       "      <th>Tulumba</th>\n",
       "      <td>Unión</td>\n",
       "      <td>48481</td>\n",
       "      <td>62</td>\n",
       "      <td>48419</td>\n",
       "      <td>42587</td>\n",
       "      <td>114571</td>\n",
       "      <td>113635</td>\n",
       "      <td>936</td>\n",
       "      <td>0</td>\n",
       "      <td>58165</td>\n",
       "      <td>56406</td>\n",
       "    </tr>\n",
       "  </tbody>\n",
       "</table>\n",
       "</div>"
      ],
      "text/plain": [
       "           Departamento Total_viviendas Total_viviendas_colectivas  \\\n",
       "Colón      Cruz del Eje           24366                         42   \n",
       "Ischílin  Juárez Celman           28023                         38   \n",
       "Totoral         Tulumba            7055                          6   \n",
       "Tulumba           Unión           48481                         62   \n",
       "\n",
       "         Total_viviendas_particular Hogares Total_población  \\\n",
       "Colón                         24324   21425           67112   \n",
       "Ischílin                      27985   24974           68631   \n",
       "Totoral                        7049    5147           14134   \n",
       "Tulumba                       48419   42587          114571   \n",
       "\n",
       "         Población_en_viviendas_particulares  \\\n",
       "Colón                                  64748   \n",
       "Ischílin                               68317   \n",
       "Totoral                                14092   \n",
       "Tulumba                               113635   \n",
       "\n",
       "         Población_en_viviendas_colectivas(1)  \\\n",
       "Colón                                    2364   \n",
       "Ischílin                                  314   \n",
       "Totoral                                    42   \n",
       "Tulumba                                   936   \n",
       "\n",
       "         Población_situación_calle(vía pública) Femenino Masculino  \n",
       "Colón                                         0    33487     33625  \n",
       "Ischílin                                      0    34743     33888  \n",
       "Totoral                                       0     7082      7052  \n",
       "Tulumba                                       0    58165     56406  "
      ]
     },
     "execution_count": 149,
     "metadata": {},
     "output_type": "execute_result"
    }
   ],
   "source": [
    "df_poblacion_departamento22"
   ]
  },
  {
   "cell_type": "code",
   "execution_count": 29,
   "id": "b9aa1e9c",
   "metadata": {},
   "outputs": [
    {
     "data": {
      "application/vnd.plotly.v1+json": {
       "config": {
        "plotlyServerURL": "https://plot.ly"
       },
       "data": [
        {
         "marker": {
          "color": "#636EFA",
          "line": {
           "color": "#000000",
           "width": 1
          }
         },
         "name": "Total tiene internet en vivienda",
         "text": [
          "13184 (58.67%)",
          "12882 (65.29%)",
          "302 (11.01%)"
         ],
         "textfont": {
          "color": "#000000",
          "family": "Arial, bold",
          "size": 14
         },
         "textposition": "outside",
         "type": "bar",
         "x": [
          "Total",
          "Tiene celular con internet",
          "No tiene celular con internet"
         ],
         "y": [
          13184,
          12882,
          302
         ]
        },
        {
         "marker": {
          "color": "#EF553B",
          "line": {
           "color": "#000000",
           "width": 1
          }
         },
         "name": "Tiene computadora o tablet",
         "text": [
          "9136 (40.65%)",
          "9022 (45.73%)",
          "114 (4.16%)"
         ],
         "textfont": {
          "color": "#000000",
          "family": "Arial, bold",
          "size": 14
         },
         "textposition": "outside",
         "type": "bar",
         "x": [
          "Total",
          "Tiene celular con internet",
          "No tiene celular con internet"
         ],
         "y": [
          9136,
          9022,
          114
         ]
        },
        {
         "marker": {
          "color": "#00CC96",
          "line": {
           "color": "#000000",
           "width": 1
          }
         },
         "name": "Total no tiene internet en vivienda",
         "text": [
          "9289 (41.33%)",
          "6849 (34.71%)",
          "2440 (88.99%)"
         ],
         "textfont": {
          "color": "#000000",
          "family": "Arial, bold",
          "size": 14
         },
         "textposition": "outside",
         "type": "bar",
         "x": [
          "Total",
          "Tiene celular con internet",
          "No tiene celular con internet"
         ],
         "y": [
          9289,
          6849,
          2440
         ]
        },
        {
         "marker": {
          "color": "#AB63FA",
          "line": {
           "color": "#000000",
           "width": 1
          }
         },
         "name": "Tiene computadora o tablet",
         "text": [
          "1268 (5.64%)",
          "1198 (6.07%)",
          "70 (2.55%)"
         ],
         "textfont": {
          "color": "#000000",
          "family": "Arial, bold",
          "size": 14
         },
         "textposition": "outside",
         "type": "bar",
         "x": [
          "Total",
          "Tiene celular con internet",
          "No tiene celular con internet"
         ],
         "y": [
          1268,
          1198,
          70
         ]
        }
       ],
       "layout": {
        "annotations": [
         {
          "arrowhead": 1,
          "ax": 50,
          "ay": -50,
          "bgcolor": "#FFFFFF",
          "bordercolor": "#000000",
          "borderwidth": 1,
          "font": {
           "color": "#000000",
           "family": "Arial, bold",
           "size": 14
          },
          "showarrow": true,
          "text": "Máximo: 13184",
          "x": "Total",
          "y": 13184
         },
         {
          "arrowhead": 1,
          "ax": 50,
          "ay": -50,
          "bgcolor": "#FFFFFF",
          "bordercolor": "#000000",
          "borderwidth": 1,
          "font": {
           "color": "#000000",
           "family": "Arial, bold",
           "size": 14
          },
          "showarrow": true,
          "text": "Máximo: 9289",
          "x": "No tiene celular con internet",
          "y": 9289
         }
        ],
        "bargap": 0.15,
        "bargroupgap": 0.1,
        "barmode": "group",
        "legend": {
         "font": {
          "color": "#333333",
          "family": "Arial",
          "size": 14
         },
         "title": {
          "text": ""
         }
        },
        "margin": {
         "b": 70,
         "l": 20,
         "r": 20,
         "t": 70
        },
        "paper_bgcolor": "rgba(255,255,255,1)",
        "plot_bgcolor": "rgba(255,255,255,1)",
        "template": {
         "data": {
          "bar": [
           {
            "error_x": {
             "color": "#2a3f5f"
            },
            "error_y": {
             "color": "#2a3f5f"
            },
            "marker": {
             "line": {
              "color": "#E5ECF6",
              "width": 0.5
             },
             "pattern": {
              "fillmode": "overlay",
              "size": 10,
              "solidity": 0.2
             }
            },
            "type": "bar"
           }
          ],
          "barpolar": [
           {
            "marker": {
             "line": {
              "color": "#E5ECF6",
              "width": 0.5
             },
             "pattern": {
              "fillmode": "overlay",
              "size": 10,
              "solidity": 0.2
             }
            },
            "type": "barpolar"
           }
          ],
          "carpet": [
           {
            "aaxis": {
             "endlinecolor": "#2a3f5f",
             "gridcolor": "white",
             "linecolor": "white",
             "minorgridcolor": "white",
             "startlinecolor": "#2a3f5f"
            },
            "baxis": {
             "endlinecolor": "#2a3f5f",
             "gridcolor": "white",
             "linecolor": "white",
             "minorgridcolor": "white",
             "startlinecolor": "#2a3f5f"
            },
            "type": "carpet"
           }
          ],
          "choropleth": [
           {
            "colorbar": {
             "outlinewidth": 0,
             "ticks": ""
            },
            "type": "choropleth"
           }
          ],
          "contour": [
           {
            "colorbar": {
             "outlinewidth": 0,
             "ticks": ""
            },
            "colorscale": [
             [
              0,
              "#0d0887"
             ],
             [
              0.1111111111111111,
              "#46039f"
             ],
             [
              0.2222222222222222,
              "#7201a8"
             ],
             [
              0.3333333333333333,
              "#9c179e"
             ],
             [
              0.4444444444444444,
              "#bd3786"
             ],
             [
              0.5555555555555556,
              "#d8576b"
             ],
             [
              0.6666666666666666,
              "#ed7953"
             ],
             [
              0.7777777777777778,
              "#fb9f3a"
             ],
             [
              0.8888888888888888,
              "#fdca26"
             ],
             [
              1,
              "#f0f921"
             ]
            ],
            "type": "contour"
           }
          ],
          "contourcarpet": [
           {
            "colorbar": {
             "outlinewidth": 0,
             "ticks": ""
            },
            "type": "contourcarpet"
           }
          ],
          "heatmap": [
           {
            "colorbar": {
             "outlinewidth": 0,
             "ticks": ""
            },
            "colorscale": [
             [
              0,
              "#0d0887"
             ],
             [
              0.1111111111111111,
              "#46039f"
             ],
             [
              0.2222222222222222,
              "#7201a8"
             ],
             [
              0.3333333333333333,
              "#9c179e"
             ],
             [
              0.4444444444444444,
              "#bd3786"
             ],
             [
              0.5555555555555556,
              "#d8576b"
             ],
             [
              0.6666666666666666,
              "#ed7953"
             ],
             [
              0.7777777777777778,
              "#fb9f3a"
             ],
             [
              0.8888888888888888,
              "#fdca26"
             ],
             [
              1,
              "#f0f921"
             ]
            ],
            "type": "heatmap"
           }
          ],
          "heatmapgl": [
           {
            "colorbar": {
             "outlinewidth": 0,
             "ticks": ""
            },
            "colorscale": [
             [
              0,
              "#0d0887"
             ],
             [
              0.1111111111111111,
              "#46039f"
             ],
             [
              0.2222222222222222,
              "#7201a8"
             ],
             [
              0.3333333333333333,
              "#9c179e"
             ],
             [
              0.4444444444444444,
              "#bd3786"
             ],
             [
              0.5555555555555556,
              "#d8576b"
             ],
             [
              0.6666666666666666,
              "#ed7953"
             ],
             [
              0.7777777777777778,
              "#fb9f3a"
             ],
             [
              0.8888888888888888,
              "#fdca26"
             ],
             [
              1,
              "#f0f921"
             ]
            ],
            "type": "heatmapgl"
           }
          ],
          "histogram": [
           {
            "marker": {
             "pattern": {
              "fillmode": "overlay",
              "size": 10,
              "solidity": 0.2
             }
            },
            "type": "histogram"
           }
          ],
          "histogram2d": [
           {
            "colorbar": {
             "outlinewidth": 0,
             "ticks": ""
            },
            "colorscale": [
             [
              0,
              "#0d0887"
             ],
             [
              0.1111111111111111,
              "#46039f"
             ],
             [
              0.2222222222222222,
              "#7201a8"
             ],
             [
              0.3333333333333333,
              "#9c179e"
             ],
             [
              0.4444444444444444,
              "#bd3786"
             ],
             [
              0.5555555555555556,
              "#d8576b"
             ],
             [
              0.6666666666666666,
              "#ed7953"
             ],
             [
              0.7777777777777778,
              "#fb9f3a"
             ],
             [
              0.8888888888888888,
              "#fdca26"
             ],
             [
              1,
              "#f0f921"
             ]
            ],
            "type": "histogram2d"
           }
          ],
          "histogram2dcontour": [
           {
            "colorbar": {
             "outlinewidth": 0,
             "ticks": ""
            },
            "colorscale": [
             [
              0,
              "#0d0887"
             ],
             [
              0.1111111111111111,
              "#46039f"
             ],
             [
              0.2222222222222222,
              "#7201a8"
             ],
             [
              0.3333333333333333,
              "#9c179e"
             ],
             [
              0.4444444444444444,
              "#bd3786"
             ],
             [
              0.5555555555555556,
              "#d8576b"
             ],
             [
              0.6666666666666666,
              "#ed7953"
             ],
             [
              0.7777777777777778,
              "#fb9f3a"
             ],
             [
              0.8888888888888888,
              "#fdca26"
             ],
             [
              1,
              "#f0f921"
             ]
            ],
            "type": "histogram2dcontour"
           }
          ],
          "mesh3d": [
           {
            "colorbar": {
             "outlinewidth": 0,
             "ticks": ""
            },
            "type": "mesh3d"
           }
          ],
          "parcoords": [
           {
            "line": {
             "colorbar": {
              "outlinewidth": 0,
              "ticks": ""
             }
            },
            "type": "parcoords"
           }
          ],
          "pie": [
           {
            "automargin": true,
            "type": "pie"
           }
          ],
          "scatter": [
           {
            "fillpattern": {
             "fillmode": "overlay",
             "size": 10,
             "solidity": 0.2
            },
            "type": "scatter"
           }
          ],
          "scatter3d": [
           {
            "line": {
             "colorbar": {
              "outlinewidth": 0,
              "ticks": ""
             }
            },
            "marker": {
             "colorbar": {
              "outlinewidth": 0,
              "ticks": ""
             }
            },
            "type": "scatter3d"
           }
          ],
          "scattercarpet": [
           {
            "marker": {
             "colorbar": {
              "outlinewidth": 0,
              "ticks": ""
             }
            },
            "type": "scattercarpet"
           }
          ],
          "scattergeo": [
           {
            "marker": {
             "colorbar": {
              "outlinewidth": 0,
              "ticks": ""
             }
            },
            "type": "scattergeo"
           }
          ],
          "scattergl": [
           {
            "marker": {
             "colorbar": {
              "outlinewidth": 0,
              "ticks": ""
             }
            },
            "type": "scattergl"
           }
          ],
          "scattermapbox": [
           {
            "marker": {
             "colorbar": {
              "outlinewidth": 0,
              "ticks": ""
             }
            },
            "type": "scattermapbox"
           }
          ],
          "scatterpolar": [
           {
            "marker": {
             "colorbar": {
              "outlinewidth": 0,
              "ticks": ""
             }
            },
            "type": "scatterpolar"
           }
          ],
          "scatterpolargl": [
           {
            "marker": {
             "colorbar": {
              "outlinewidth": 0,
              "ticks": ""
             }
            },
            "type": "scatterpolargl"
           }
          ],
          "scatterternary": [
           {
            "marker": {
             "colorbar": {
              "outlinewidth": 0,
              "ticks": ""
             }
            },
            "type": "scatterternary"
           }
          ],
          "surface": [
           {
            "colorbar": {
             "outlinewidth": 0,
             "ticks": ""
            },
            "colorscale": [
             [
              0,
              "#0d0887"
             ],
             [
              0.1111111111111111,
              "#46039f"
             ],
             [
              0.2222222222222222,
              "#7201a8"
             ],
             [
              0.3333333333333333,
              "#9c179e"
             ],
             [
              0.4444444444444444,
              "#bd3786"
             ],
             [
              0.5555555555555556,
              "#d8576b"
             ],
             [
              0.6666666666666666,
              "#ed7953"
             ],
             [
              0.7777777777777778,
              "#fb9f3a"
             ],
             [
              0.8888888888888888,
              "#fdca26"
             ],
             [
              1,
              "#f0f921"
             ]
            ],
            "type": "surface"
           }
          ],
          "table": [
           {
            "cells": {
             "fill": {
              "color": "#EBF0F8"
             },
             "line": {
              "color": "white"
             }
            },
            "header": {
             "fill": {
              "color": "#C8D4E3"
             },
             "line": {
              "color": "white"
             }
            },
            "type": "table"
           }
          ]
         },
         "layout": {
          "annotationdefaults": {
           "arrowcolor": "#2a3f5f",
           "arrowhead": 0,
           "arrowwidth": 1
          },
          "autotypenumbers": "strict",
          "coloraxis": {
           "colorbar": {
            "outlinewidth": 0,
            "ticks": ""
           }
          },
          "colorscale": {
           "diverging": [
            [
             0,
             "#8e0152"
            ],
            [
             0.1,
             "#c51b7d"
            ],
            [
             0.2,
             "#de77ae"
            ],
            [
             0.3,
             "#f1b6da"
            ],
            [
             0.4,
             "#fde0ef"
            ],
            [
             0.5,
             "#f7f7f7"
            ],
            [
             0.6,
             "#e6f5d0"
            ],
            [
             0.7,
             "#b8e186"
            ],
            [
             0.8,
             "#7fbc41"
            ],
            [
             0.9,
             "#4d9221"
            ],
            [
             1,
             "#276419"
            ]
           ],
           "sequential": [
            [
             0,
             "#0d0887"
            ],
            [
             0.1111111111111111,
             "#46039f"
            ],
            [
             0.2222222222222222,
             "#7201a8"
            ],
            [
             0.3333333333333333,
             "#9c179e"
            ],
            [
             0.4444444444444444,
             "#bd3786"
            ],
            [
             0.5555555555555556,
             "#d8576b"
            ],
            [
             0.6666666666666666,
             "#ed7953"
            ],
            [
             0.7777777777777778,
             "#fb9f3a"
            ],
            [
             0.8888888888888888,
             "#fdca26"
            ],
            [
             1,
             "#f0f921"
            ]
           ],
           "sequentialminus": [
            [
             0,
             "#0d0887"
            ],
            [
             0.1111111111111111,
             "#46039f"
            ],
            [
             0.2222222222222222,
             "#7201a8"
            ],
            [
             0.3333333333333333,
             "#9c179e"
            ],
            [
             0.4444444444444444,
             "#bd3786"
            ],
            [
             0.5555555555555556,
             "#d8576b"
            ],
            [
             0.6666666666666666,
             "#ed7953"
            ],
            [
             0.7777777777777778,
             "#fb9f3a"
            ],
            [
             0.8888888888888888,
             "#fdca26"
            ],
            [
             1,
             "#f0f921"
            ]
           ]
          },
          "colorway": [
           "#636efa",
           "#EF553B",
           "#00cc96",
           "#ab63fa",
           "#FFA15A",
           "#19d3f3",
           "#FF6692",
           "#B6E880",
           "#FF97FF",
           "#FECB52"
          ],
          "font": {
           "color": "#2a3f5f"
          },
          "geo": {
           "bgcolor": "white",
           "lakecolor": "white",
           "landcolor": "#E5ECF6",
           "showlakes": true,
           "showland": true,
           "subunitcolor": "white"
          },
          "hoverlabel": {
           "align": "left"
          },
          "hovermode": "closest",
          "mapbox": {
           "style": "light"
          },
          "paper_bgcolor": "white",
          "plot_bgcolor": "#E5ECF6",
          "polar": {
           "angularaxis": {
            "gridcolor": "white",
            "linecolor": "white",
            "ticks": ""
           },
           "bgcolor": "#E5ECF6",
           "radialaxis": {
            "gridcolor": "white",
            "linecolor": "white",
            "ticks": ""
           }
          },
          "scene": {
           "xaxis": {
            "backgroundcolor": "#E5ECF6",
            "gridcolor": "white",
            "gridwidth": 2,
            "linecolor": "white",
            "showbackground": true,
            "ticks": "",
            "zerolinecolor": "white"
           },
           "yaxis": {
            "backgroundcolor": "#E5ECF6",
            "gridcolor": "white",
            "gridwidth": 2,
            "linecolor": "white",
            "showbackground": true,
            "ticks": "",
            "zerolinecolor": "white"
           },
           "zaxis": {
            "backgroundcolor": "#E5ECF6",
            "gridcolor": "white",
            "gridwidth": 2,
            "linecolor": "white",
            "showbackground": true,
            "ticks": "",
            "zerolinecolor": "white"
           }
          },
          "shapedefaults": {
           "line": {
            "color": "#2a3f5f"
           }
          },
          "ternary": {
           "aaxis": {
            "gridcolor": "white",
            "linecolor": "white",
            "ticks": ""
           },
           "baxis": {
            "gridcolor": "white",
            "linecolor": "white",
            "ticks": ""
           },
           "bgcolor": "#E5ECF6",
           "caxis": {
            "gridcolor": "white",
            "linecolor": "white",
            "ticks": ""
           }
          },
          "title": {
           "x": 0.05
          },
          "xaxis": {
           "automargin": true,
           "gridcolor": "white",
           "linecolor": "white",
           "ticks": "",
           "title": {
            "standoff": 15
           },
           "zerolinecolor": "white",
           "zerolinewidth": 2
          },
          "yaxis": {
           "automargin": true,
           "gridcolor": "white",
           "linecolor": "white",
           "ticks": "",
           "title": {
            "standoff": 15
           },
           "zerolinecolor": "white",
           "zerolinewidth": 2
          }
         }
        },
        "title": {
         "font": {
          "color": "#333333",
          "family": "Arial, bold",
          "size": 24
         },
         "text": "Tenencia de Celular y Acceso a Internet en Viviendas Particulares",
         "x": 0.5,
         "xanchor": "center",
         "y": 0.9,
         "yanchor": "top"
        },
        "xaxis": {
         "gridcolor": "rgba(200, 200, 200, 0.5)",
         "gridwidth": 1,
         "tickfont": {
          "color": "#333333",
          "family": "Arial",
          "size": 14
         },
         "title": {
          "font": {
           "color": "#333333",
           "family": "Arial",
           "size": 18
          },
          "text": "Categorías"
         }
        },
        "yaxis": {
         "gridcolor": "rgba(200, 200, 200, 0.5)",
         "gridwidth": 1,
         "tickfont": {
          "color": "#333333",
          "family": "Arial",
          "size": 14
         },
         "title": {
          "font": {
           "color": "#333333",
           "family": "Arial",
           "size": 18
          },
          "text": "Cantidad de Personas"
         }
        }
       }
      },
      "text/html": [
       "<div>                            <div id=\"69f3336a-134d-4c10-9bbb-59ece631b424\" class=\"plotly-graph-div\" style=\"height:525px; width:100%;\"></div>            <script type=\"text/javascript\">                require([\"plotly\"], function(Plotly) {                    window.PLOTLYENV=window.PLOTLYENV || {};                                    if (document.getElementById(\"69f3336a-134d-4c10-9bbb-59ece631b424\")) {                    Plotly.newPlot(                        \"69f3336a-134d-4c10-9bbb-59ece631b424\",                        [{\"marker\":{\"color\":\"#636EFA\",\"line\":{\"color\":\"#000000\",\"width\":1}},\"name\":\"Total tiene internet en vivienda\",\"text\":[\"13184 (58.67%)\",\"12882 (65.29%)\",\"302 (11.01%)\"],\"textfont\":{\"color\":\"#000000\",\"family\":\"Arial, bold\",\"size\":14},\"textposition\":\"outside\",\"x\":[\"Total\",\"Tiene celular con internet\",\"No tiene celular con internet\"],\"y\":[13184,12882,302],\"type\":\"bar\"},{\"marker\":{\"color\":\"#EF553B\",\"line\":{\"color\":\"#000000\",\"width\":1}},\"name\":\"Tiene computadora o tablet\",\"text\":[\"9136 (40.65%)\",\"9022 (45.73%)\",\"114 (4.16%)\"],\"textfont\":{\"color\":\"#000000\",\"family\":\"Arial, bold\",\"size\":14},\"textposition\":\"outside\",\"x\":[\"Total\",\"Tiene celular con internet\",\"No tiene celular con internet\"],\"y\":[9136,9022,114],\"type\":\"bar\"},{\"marker\":{\"color\":\"#00CC96\",\"line\":{\"color\":\"#000000\",\"width\":1}},\"name\":\"Total no tiene internet en vivienda\",\"text\":[\"9289 (41.33%)\",\"6849 (34.71%)\",\"2440 (88.99%)\"],\"textfont\":{\"color\":\"#000000\",\"family\":\"Arial, bold\",\"size\":14},\"textposition\":\"outside\",\"x\":[\"Total\",\"Tiene celular con internet\",\"No tiene celular con internet\"],\"y\":[9289,6849,2440],\"type\":\"bar\"},{\"marker\":{\"color\":\"#AB63FA\",\"line\":{\"color\":\"#000000\",\"width\":1}},\"name\":\"Tiene computadora o tablet\",\"text\":[\"1268 (5.64%)\",\"1198 (6.07%)\",\"70 (2.55%)\"],\"textfont\":{\"color\":\"#000000\",\"family\":\"Arial, bold\",\"size\":14},\"textposition\":\"outside\",\"x\":[\"Total\",\"Tiene celular con internet\",\"No tiene celular con internet\"],\"y\":[1268,1198,70],\"type\":\"bar\"}],                        {\"template\":{\"data\":{\"histogram2dcontour\":[{\"type\":\"histogram2dcontour\",\"colorbar\":{\"outlinewidth\":0,\"ticks\":\"\"},\"colorscale\":[[0.0,\"#0d0887\"],[0.1111111111111111,\"#46039f\"],[0.2222222222222222,\"#7201a8\"],[0.3333333333333333,\"#9c179e\"],[0.4444444444444444,\"#bd3786\"],[0.5555555555555556,\"#d8576b\"],[0.6666666666666666,\"#ed7953\"],[0.7777777777777778,\"#fb9f3a\"],[0.8888888888888888,\"#fdca26\"],[1.0,\"#f0f921\"]]}],\"choropleth\":[{\"type\":\"choropleth\",\"colorbar\":{\"outlinewidth\":0,\"ticks\":\"\"}}],\"histogram2d\":[{\"type\":\"histogram2d\",\"colorbar\":{\"outlinewidth\":0,\"ticks\":\"\"},\"colorscale\":[[0.0,\"#0d0887\"],[0.1111111111111111,\"#46039f\"],[0.2222222222222222,\"#7201a8\"],[0.3333333333333333,\"#9c179e\"],[0.4444444444444444,\"#bd3786\"],[0.5555555555555556,\"#d8576b\"],[0.6666666666666666,\"#ed7953\"],[0.7777777777777778,\"#fb9f3a\"],[0.8888888888888888,\"#fdca26\"],[1.0,\"#f0f921\"]]}],\"heatmap\":[{\"type\":\"heatmap\",\"colorbar\":{\"outlinewidth\":0,\"ticks\":\"\"},\"colorscale\":[[0.0,\"#0d0887\"],[0.1111111111111111,\"#46039f\"],[0.2222222222222222,\"#7201a8\"],[0.3333333333333333,\"#9c179e\"],[0.4444444444444444,\"#bd3786\"],[0.5555555555555556,\"#d8576b\"],[0.6666666666666666,\"#ed7953\"],[0.7777777777777778,\"#fb9f3a\"],[0.8888888888888888,\"#fdca26\"],[1.0,\"#f0f921\"]]}],\"heatmapgl\":[{\"type\":\"heatmapgl\",\"colorbar\":{\"outlinewidth\":0,\"ticks\":\"\"},\"colorscale\":[[0.0,\"#0d0887\"],[0.1111111111111111,\"#46039f\"],[0.2222222222222222,\"#7201a8\"],[0.3333333333333333,\"#9c179e\"],[0.4444444444444444,\"#bd3786\"],[0.5555555555555556,\"#d8576b\"],[0.6666666666666666,\"#ed7953\"],[0.7777777777777778,\"#fb9f3a\"],[0.8888888888888888,\"#fdca26\"],[1.0,\"#f0f921\"]]}],\"contourcarpet\":[{\"type\":\"contourcarpet\",\"colorbar\":{\"outlinewidth\":0,\"ticks\":\"\"}}],\"contour\":[{\"type\":\"contour\",\"colorbar\":{\"outlinewidth\":0,\"ticks\":\"\"},\"colorscale\":[[0.0,\"#0d0887\"],[0.1111111111111111,\"#46039f\"],[0.2222222222222222,\"#7201a8\"],[0.3333333333333333,\"#9c179e\"],[0.4444444444444444,\"#bd3786\"],[0.5555555555555556,\"#d8576b\"],[0.6666666666666666,\"#ed7953\"],[0.7777777777777778,\"#fb9f3a\"],[0.8888888888888888,\"#fdca26\"],[1.0,\"#f0f921\"]]}],\"surface\":[{\"type\":\"surface\",\"colorbar\":{\"outlinewidth\":0,\"ticks\":\"\"},\"colorscale\":[[0.0,\"#0d0887\"],[0.1111111111111111,\"#46039f\"],[0.2222222222222222,\"#7201a8\"],[0.3333333333333333,\"#9c179e\"],[0.4444444444444444,\"#bd3786\"],[0.5555555555555556,\"#d8576b\"],[0.6666666666666666,\"#ed7953\"],[0.7777777777777778,\"#fb9f3a\"],[0.8888888888888888,\"#fdca26\"],[1.0,\"#f0f921\"]]}],\"mesh3d\":[{\"type\":\"mesh3d\",\"colorbar\":{\"outlinewidth\":0,\"ticks\":\"\"}}],\"scatter\":[{\"fillpattern\":{\"fillmode\":\"overlay\",\"size\":10,\"solidity\":0.2},\"type\":\"scatter\"}],\"parcoords\":[{\"type\":\"parcoords\",\"line\":{\"colorbar\":{\"outlinewidth\":0,\"ticks\":\"\"}}}],\"scatterpolargl\":[{\"type\":\"scatterpolargl\",\"marker\":{\"colorbar\":{\"outlinewidth\":0,\"ticks\":\"\"}}}],\"bar\":[{\"error_x\":{\"color\":\"#2a3f5f\"},\"error_y\":{\"color\":\"#2a3f5f\"},\"marker\":{\"line\":{\"color\":\"#E5ECF6\",\"width\":0.5},\"pattern\":{\"fillmode\":\"overlay\",\"size\":10,\"solidity\":0.2}},\"type\":\"bar\"}],\"scattergeo\":[{\"type\":\"scattergeo\",\"marker\":{\"colorbar\":{\"outlinewidth\":0,\"ticks\":\"\"}}}],\"scatterpolar\":[{\"type\":\"scatterpolar\",\"marker\":{\"colorbar\":{\"outlinewidth\":0,\"ticks\":\"\"}}}],\"histogram\":[{\"marker\":{\"pattern\":{\"fillmode\":\"overlay\",\"size\":10,\"solidity\":0.2}},\"type\":\"histogram\"}],\"scattergl\":[{\"type\":\"scattergl\",\"marker\":{\"colorbar\":{\"outlinewidth\":0,\"ticks\":\"\"}}}],\"scatter3d\":[{\"type\":\"scatter3d\",\"line\":{\"colorbar\":{\"outlinewidth\":0,\"ticks\":\"\"}},\"marker\":{\"colorbar\":{\"outlinewidth\":0,\"ticks\":\"\"}}}],\"scattermapbox\":[{\"type\":\"scattermapbox\",\"marker\":{\"colorbar\":{\"outlinewidth\":0,\"ticks\":\"\"}}}],\"scatterternary\":[{\"type\":\"scatterternary\",\"marker\":{\"colorbar\":{\"outlinewidth\":0,\"ticks\":\"\"}}}],\"scattercarpet\":[{\"type\":\"scattercarpet\",\"marker\":{\"colorbar\":{\"outlinewidth\":0,\"ticks\":\"\"}}}],\"carpet\":[{\"aaxis\":{\"endlinecolor\":\"#2a3f5f\",\"gridcolor\":\"white\",\"linecolor\":\"white\",\"minorgridcolor\":\"white\",\"startlinecolor\":\"#2a3f5f\"},\"baxis\":{\"endlinecolor\":\"#2a3f5f\",\"gridcolor\":\"white\",\"linecolor\":\"white\",\"minorgridcolor\":\"white\",\"startlinecolor\":\"#2a3f5f\"},\"type\":\"carpet\"}],\"table\":[{\"cells\":{\"fill\":{\"color\":\"#EBF0F8\"},\"line\":{\"color\":\"white\"}},\"header\":{\"fill\":{\"color\":\"#C8D4E3\"},\"line\":{\"color\":\"white\"}},\"type\":\"table\"}],\"barpolar\":[{\"marker\":{\"line\":{\"color\":\"#E5ECF6\",\"width\":0.5},\"pattern\":{\"fillmode\":\"overlay\",\"size\":10,\"solidity\":0.2}},\"type\":\"barpolar\"}],\"pie\":[{\"automargin\":true,\"type\":\"pie\"}]},\"layout\":{\"autotypenumbers\":\"strict\",\"colorway\":[\"#636efa\",\"#EF553B\",\"#00cc96\",\"#ab63fa\",\"#FFA15A\",\"#19d3f3\",\"#FF6692\",\"#B6E880\",\"#FF97FF\",\"#FECB52\"],\"font\":{\"color\":\"#2a3f5f\"},\"hovermode\":\"closest\",\"hoverlabel\":{\"align\":\"left\"},\"paper_bgcolor\":\"white\",\"plot_bgcolor\":\"#E5ECF6\",\"polar\":{\"bgcolor\":\"#E5ECF6\",\"angularaxis\":{\"gridcolor\":\"white\",\"linecolor\":\"white\",\"ticks\":\"\"},\"radialaxis\":{\"gridcolor\":\"white\",\"linecolor\":\"white\",\"ticks\":\"\"}},\"ternary\":{\"bgcolor\":\"#E5ECF6\",\"aaxis\":{\"gridcolor\":\"white\",\"linecolor\":\"white\",\"ticks\":\"\"},\"baxis\":{\"gridcolor\":\"white\",\"linecolor\":\"white\",\"ticks\":\"\"},\"caxis\":{\"gridcolor\":\"white\",\"linecolor\":\"white\",\"ticks\":\"\"}},\"coloraxis\":{\"colorbar\":{\"outlinewidth\":0,\"ticks\":\"\"}},\"colorscale\":{\"sequential\":[[0.0,\"#0d0887\"],[0.1111111111111111,\"#46039f\"],[0.2222222222222222,\"#7201a8\"],[0.3333333333333333,\"#9c179e\"],[0.4444444444444444,\"#bd3786\"],[0.5555555555555556,\"#d8576b\"],[0.6666666666666666,\"#ed7953\"],[0.7777777777777778,\"#fb9f3a\"],[0.8888888888888888,\"#fdca26\"],[1.0,\"#f0f921\"]],\"sequentialminus\":[[0.0,\"#0d0887\"],[0.1111111111111111,\"#46039f\"],[0.2222222222222222,\"#7201a8\"],[0.3333333333333333,\"#9c179e\"],[0.4444444444444444,\"#bd3786\"],[0.5555555555555556,\"#d8576b\"],[0.6666666666666666,\"#ed7953\"],[0.7777777777777778,\"#fb9f3a\"],[0.8888888888888888,\"#fdca26\"],[1.0,\"#f0f921\"]],\"diverging\":[[0,\"#8e0152\"],[0.1,\"#c51b7d\"],[0.2,\"#de77ae\"],[0.3,\"#f1b6da\"],[0.4,\"#fde0ef\"],[0.5,\"#f7f7f7\"],[0.6,\"#e6f5d0\"],[0.7,\"#b8e186\"],[0.8,\"#7fbc41\"],[0.9,\"#4d9221\"],[1,\"#276419\"]]},\"xaxis\":{\"gridcolor\":\"white\",\"linecolor\":\"white\",\"ticks\":\"\",\"title\":{\"standoff\":15},\"zerolinecolor\":\"white\",\"automargin\":true,\"zerolinewidth\":2},\"yaxis\":{\"gridcolor\":\"white\",\"linecolor\":\"white\",\"ticks\":\"\",\"title\":{\"standoff\":15},\"zerolinecolor\":\"white\",\"automargin\":true,\"zerolinewidth\":2},\"scene\":{\"xaxis\":{\"backgroundcolor\":\"#E5ECF6\",\"gridcolor\":\"white\",\"linecolor\":\"white\",\"showbackground\":true,\"ticks\":\"\",\"zerolinecolor\":\"white\",\"gridwidth\":2},\"yaxis\":{\"backgroundcolor\":\"#E5ECF6\",\"gridcolor\":\"white\",\"linecolor\":\"white\",\"showbackground\":true,\"ticks\":\"\",\"zerolinecolor\":\"white\",\"gridwidth\":2},\"zaxis\":{\"backgroundcolor\":\"#E5ECF6\",\"gridcolor\":\"white\",\"linecolor\":\"white\",\"showbackground\":true,\"ticks\":\"\",\"zerolinecolor\":\"white\",\"gridwidth\":2}},\"shapedefaults\":{\"line\":{\"color\":\"#2a3f5f\"}},\"annotationdefaults\":{\"arrowcolor\":\"#2a3f5f\",\"arrowhead\":0,\"arrowwidth\":1},\"geo\":{\"bgcolor\":\"white\",\"landcolor\":\"#E5ECF6\",\"subunitcolor\":\"white\",\"showland\":true,\"showlakes\":true,\"lakecolor\":\"white\"},\"title\":{\"x\":0.05},\"mapbox\":{\"style\":\"light\"}}},\"title\":{\"font\":{\"size\":24,\"family\":\"Arial, bold\",\"color\":\"#333333\"},\"text\":\"Tenencia de Celular y Acceso a Internet en Viviendas Particulares\",\"y\":0.9,\"x\":0.5,\"xanchor\":\"center\",\"yanchor\":\"top\"},\"xaxis\":{\"title\":{\"text\":\"Categor\\u00edas\",\"font\":{\"size\":18,\"family\":\"Arial\",\"color\":\"#333333\"}},\"tickfont\":{\"size\":14,\"family\":\"Arial\",\"color\":\"#333333\"},\"gridcolor\":\"rgba(200, 200, 200, 0.5)\",\"gridwidth\":1},\"yaxis\":{\"title\":{\"text\":\"Cantidad de Personas\",\"font\":{\"size\":18,\"family\":\"Arial\",\"color\":\"#333333\"}},\"tickfont\":{\"size\":14,\"family\":\"Arial\",\"color\":\"#333333\"},\"gridcolor\":\"rgba(200, 200, 200, 0.5)\",\"gridwidth\":1},\"legend\":{\"font\":{\"size\":14,\"family\":\"Arial\",\"color\":\"#333333\"},\"title\":{\"text\":\"\"}},\"margin\":{\"l\":20,\"r\":20,\"t\":70,\"b\":70},\"barmode\":\"group\",\"bargap\":0.15,\"bargroupgap\":0.1,\"plot_bgcolor\":\"rgba(255,255,255,1)\",\"paper_bgcolor\":\"rgba(255,255,255,1)\",\"annotations\":[{\"arrowhead\":1,\"ax\":50,\"ay\":-50,\"bgcolor\":\"#FFFFFF\",\"bordercolor\":\"#000000\",\"borderwidth\":1,\"font\":{\"color\":\"#000000\",\"family\":\"Arial, bold\",\"size\":14},\"showarrow\":true,\"text\":\"M\\u00e1ximo: 13184\",\"x\":\"Total\",\"y\":13184},{\"arrowhead\":1,\"ax\":50,\"ay\":-50,\"bgcolor\":\"#FFFFFF\",\"bordercolor\":\"#000000\",\"borderwidth\":1,\"font\":{\"color\":\"#000000\",\"family\":\"Arial, bold\",\"size\":14},\"showarrow\":true,\"text\":\"M\\u00e1ximo: 9289\",\"x\":\"No tiene celular con internet\",\"y\":9289}]},                        {\"responsive\": true}                    ).then(function(){\n",
       "                            \n",
       "var gd = document.getElementById('69f3336a-134d-4c10-9bbb-59ece631b424');\n",
       "var x = new MutationObserver(function (mutations, observer) {{\n",
       "        var display = window.getComputedStyle(gd).display;\n",
       "        if (!display || display === 'none') {{\n",
       "            console.log([gd, 'removed!']);\n",
       "            Plotly.purge(gd);\n",
       "            observer.disconnect();\n",
       "        }}\n",
       "}});\n",
       "\n",
       "// Listen for the removal of the full notebook cells\n",
       "var notebookContainer = gd.closest('#notebook-container');\n",
       "if (notebookContainer) {{\n",
       "    x.observe(notebookContainer, {childList: true});\n",
       "}}\n",
       "\n",
       "// Listen for the clearing of the current output cell\n",
       "var outputEl = gd.closest('.output');\n",
       "if (outputEl) {{\n",
       "    x.observe(outputEl, {childList: true});\n",
       "}}\n",
       "\n",
       "                        })                };                });            </script>        </div>"
      ]
     },
     "metadata": {},
     "output_type": "display_data"
    }
   ],
   "source": [
    "import plotly.graph_objects as go\n",
    "\n",
    "# Datos del dataframe\n",
    "categorias = [\"Total\", \"Tiene celular con internet\", \"No tiene celular con internet\"]\n",
    "poblacion_viviendas = [22473, 19731, 2742]\n",
    "total_tiene_internet = [13184, 12882, 302]\n",
    "tiene_computadora_tablet = [9136, 9022, 114]\n",
    "no_tiene_computadora_tablet = [4048, 3860, 188]\n",
    "total_no_tiene_internet = [9289, 6849, 2440]\n",
    "tiene_computadora_tablet1 = [1268, 1198, 70]\n",
    "no_tiene_computadora_tablet1 = [8021, 5651, 2370]\n",
    "\n",
    "# Calcular porcentajes\n",
    "porcentaje_tiene_internet = [round((t / pv) * 100, 2) for t, pv in zip(total_tiene_internet, poblacion_viviendas)]\n",
    "porcentaje_tiene_computadora_tablet = [round((t / pv) * 100, 2) for t, pv in zip(tiene_computadora_tablet, poblacion_viviendas)]\n",
    "porcentaje_no_tiene_internet = [round((t / pv) * 100, 2) for t, pv in zip(total_no_tiene_internet, poblacion_viviendas)]\n",
    "porcentaje_tiene_computadora_tablet1 = [round((t / pv) * 100, 2) for t, pv in zip(tiene_computadora_tablet1, poblacion_viviendas)]\n",
    "\n",
    "# Crear figuras de barras\n",
    "fig = go.Figure()\n",
    "\n",
    "fig.add_trace(go.Bar(\n",
    "    x=categorias,\n",
    "    y=total_tiene_internet,\n",
    "    name='Total tiene internet en vivienda',\n",
    "    text=[f'{t} ({p}%)' for t, p in zip(total_tiene_internet, porcentaje_tiene_internet)],\n",
    "    textposition='outside',\n",
    "    marker=dict(color='#636EFA', line=dict(color='#000000', width=1)),\n",
    "    textfont=dict(size=14, color='#000000', family='Arial, bold')\n",
    "))\n",
    "\n",
    "fig.add_trace(go.Bar(\n",
    "    x=categorias,\n",
    "    y=tiene_computadora_tablet,\n",
    "    name='Tiene computadora o tablet',\n",
    "    text=[f'{t} ({p}%)' for t, p in zip(tiene_computadora_tablet, porcentaje_tiene_computadora_tablet)],\n",
    "    textposition='outside',\n",
    "    marker=dict(color='#EF553B', line=dict(color='#000000', width=1)),\n",
    "    textfont=dict(size=14, color='#000000', family='Arial, bold')\n",
    "))\n",
    "\n",
    "fig.add_trace(go.Bar(\n",
    "    x=categorias,\n",
    "    y=total_no_tiene_internet,\n",
    "    name='Total no tiene internet en vivienda',\n",
    "    text=[f'{t} ({p}%)' for t, p in zip(total_no_tiene_internet, porcentaje_no_tiene_internet)],\n",
    "    textposition='outside',\n",
    "    marker=dict(color='#00CC96', line=dict(color='#000000', width=1)),\n",
    "    textfont=dict(size=14, color='#000000', family='Arial, bold')\n",
    "))\n",
    "\n",
    "fig.add_trace(go.Bar(\n",
    "    x=categorias,\n",
    "    y=tiene_computadora_tablet1,\n",
    "    name='Tiene computadora o tablet',\n",
    "    text=[f'{t} ({p}%)' for t, p in zip(tiene_computadora_tablet1, porcentaje_tiene_computadora_tablet1)],\n",
    "    textposition='outside',\n",
    "    marker=dict(color='#AB63FA', line=dict(color='#000000', width=1)),\n",
    "    textfont=dict(size=14, color='#000000', family='Arial, bold')\n",
    "))\n",
    "\n",
    "# Mejorar el diseño del gráfico\n",
    "fig.update_layout(\n",
    "    title={\n",
    "        'text': \"Tenencia de Celular y Acceso a Internet en Viviendas Particulares\",\n",
    "        'y':0.9,\n",
    "        'x':0.5,\n",
    "        'xanchor': 'center',\n",
    "        'yanchor': 'top'\n",
    "    },\n",
    "    title_font=dict(size=24, family='Arial, bold', color='#333333'),\n",
    "    xaxis_title='Categorías',\n",
    "    yaxis_title='Cantidad de Personas',\n",
    "    xaxis_title_font=dict(size=18, family='Arial', color='#333333'),\n",
    "    yaxis_title_font=dict(size=18, family='Arial', color='#333333'),\n",
    "    xaxis_tickfont=dict(size=14, family='Arial', color='#333333'),\n",
    "    yaxis_tickfont=dict(size=14, family='Arial', color='#333333'),\n",
    "    legend_title=\"\",\n",
    "    legend_font=dict(size=14, family='Arial', color='#333333'),\n",
    "    barmode='group',\n",
    "    bargap=0.15,\n",
    "    bargroupgap=0.1,\n",
    "    plot_bgcolor='rgba(255,255,255,1)',\n",
    "    paper_bgcolor='rgba(255,255,255,1)',\n",
    "    margin=dict(l=20, r=20, t=70, b=70),\n",
    "    xaxis=dict(\n",
    "        gridcolor='rgba(200, 200, 200, 0.5)',\n",
    "        gridwidth=1\n",
    "    ),\n",
    "    yaxis=dict(\n",
    "        gridcolor='rgba(200, 200, 200, 0.5)',\n",
    "        gridwidth=1\n",
    "    )\n",
    ")\n",
    "\n",
    "# Añadir anotaciones para resaltar valores máximos\n",
    "fig.add_annotation(\n",
    "    x='Total', y=max(total_tiene_internet),\n",
    "    text=f'Máximo: {max(total_tiene_internet)}',\n",
    "    showarrow=True,\n",
    "    arrowhead=1,\n",
    "    ax=50,\n",
    "    ay=-50,\n",
    "    font=dict(size=14, color='#000000', family='Arial, bold'),\n",
    "    bgcolor='#FFFFFF',\n",
    "    bordercolor='#000000',\n",
    "    borderwidth=1\n",
    ")\n",
    "\n",
    "fig.add_annotation(\n",
    "    x='No tiene celular con internet', y=max(total_no_tiene_internet),\n",
    "    text=f'Máximo: {max(total_no_tiene_internet)}',\n",
    "    showarrow=True,\n",
    "    arrowhead=1,\n",
    "    ax=50,\n",
    "    ay=-50,\n",
    "    font=dict(size=14, color='#000000', family='Arial, bold'),\n",
    "    bgcolor='#FFFFFF',\n",
    "    bordercolor='#000000',\n",
    "    borderwidth=1\n",
    ")\n",
    "\n",
    "# Mostrar el gráfico\n",
    "fig.show()\n",
    "\n"
   ]
  },
  {
   "cell_type": "code",
   "execution_count": 83,
   "id": "92c1df03",
   "metadata": {},
   "outputs": [
    {
     "data": {
      "application/vnd.plotly.v1+json": {
       "config": {
        "plotlyServerURL": "https://plot.ly"
       },
       "data": [
        {
         "marker": {
          "color": "#1f77b4"
         },
         "name": "Masculino",
         "text": [
          "144065",
          "17482",
          "11201",
          "7052"
         ],
         "textfont": {
          "color": "#000000",
          "family": "Arial, bold",
          "size": 15
         },
         "textposition": "auto",
         "type": "bar",
         "x": [
          "Colón",
          " Ischilín",
          " Totoral",
          " Tulumba"
         ],
         "y": [
          144065,
          17482,
          11201,
          7052
         ]
        },
        {
         "marker": {
          "color": "#ff7f0e"
         },
         "name": "Femenino",
         "text": [
          "151660",
          "18592",
          "11294",
          "7082"
         ],
         "textfont": {
          "color": "#000000",
          "family": "Arial, bold",
          "size": 15
         },
         "textposition": "auto",
         "type": "bar",
         "x": [
          "Colón",
          " Ischilín",
          " Totoral",
          " Tulumba"
         ],
         "y": [
          151660,
          18592,
          11294,
          7082
         ]
        }
       ],
       "layout": {
        "annotations": [
         {
          "align": "center",
          "font": {
           "color": "#333333",
           "family": "Arial, italic",
           "size": 12
          },
          "showarrow": false,
          "text": "Gráfico: desarrolladorsarmientino.com",
          "x": 0.5,
          "xref": "paper",
          "y": -0.19,
          "yref": "paper"
         }
        ],
        "bargap": 0.15,
        "barmode": "stack",
        "legend": {
         "font": {
          "color": "#333333",
          "family": "Arial",
          "size": 14
         },
         "title": {
          "text": "Género"
         }
        },
        "margin": {
         "b": 70,
         "l": 20,
         "r": 20,
         "t": 70
        },
        "paper_bgcolor": "rgba(255,255,255,1)",
        "plot_bgcolor": "rgba(255,255,255,1)",
        "template": {
         "data": {
          "bar": [
           {
            "error_x": {
             "color": "#2a3f5f"
            },
            "error_y": {
             "color": "#2a3f5f"
            },
            "marker": {
             "line": {
              "color": "#E5ECF6",
              "width": 0.5
             },
             "pattern": {
              "fillmode": "overlay",
              "size": 10,
              "solidity": 0.2
             }
            },
            "type": "bar"
           }
          ],
          "barpolar": [
           {
            "marker": {
             "line": {
              "color": "#E5ECF6",
              "width": 0.5
             },
             "pattern": {
              "fillmode": "overlay",
              "size": 10,
              "solidity": 0.2
             }
            },
            "type": "barpolar"
           }
          ],
          "carpet": [
           {
            "aaxis": {
             "endlinecolor": "#2a3f5f",
             "gridcolor": "white",
             "linecolor": "white",
             "minorgridcolor": "white",
             "startlinecolor": "#2a3f5f"
            },
            "baxis": {
             "endlinecolor": "#2a3f5f",
             "gridcolor": "white",
             "linecolor": "white",
             "minorgridcolor": "white",
             "startlinecolor": "#2a3f5f"
            },
            "type": "carpet"
           }
          ],
          "choropleth": [
           {
            "colorbar": {
             "outlinewidth": 0,
             "ticks": ""
            },
            "type": "choropleth"
           }
          ],
          "contour": [
           {
            "colorbar": {
             "outlinewidth": 0,
             "ticks": ""
            },
            "colorscale": [
             [
              0,
              "#0d0887"
             ],
             [
              0.1111111111111111,
              "#46039f"
             ],
             [
              0.2222222222222222,
              "#7201a8"
             ],
             [
              0.3333333333333333,
              "#9c179e"
             ],
             [
              0.4444444444444444,
              "#bd3786"
             ],
             [
              0.5555555555555556,
              "#d8576b"
             ],
             [
              0.6666666666666666,
              "#ed7953"
             ],
             [
              0.7777777777777778,
              "#fb9f3a"
             ],
             [
              0.8888888888888888,
              "#fdca26"
             ],
             [
              1,
              "#f0f921"
             ]
            ],
            "type": "contour"
           }
          ],
          "contourcarpet": [
           {
            "colorbar": {
             "outlinewidth": 0,
             "ticks": ""
            },
            "type": "contourcarpet"
           }
          ],
          "heatmap": [
           {
            "colorbar": {
             "outlinewidth": 0,
             "ticks": ""
            },
            "colorscale": [
             [
              0,
              "#0d0887"
             ],
             [
              0.1111111111111111,
              "#46039f"
             ],
             [
              0.2222222222222222,
              "#7201a8"
             ],
             [
              0.3333333333333333,
              "#9c179e"
             ],
             [
              0.4444444444444444,
              "#bd3786"
             ],
             [
              0.5555555555555556,
              "#d8576b"
             ],
             [
              0.6666666666666666,
              "#ed7953"
             ],
             [
              0.7777777777777778,
              "#fb9f3a"
             ],
             [
              0.8888888888888888,
              "#fdca26"
             ],
             [
              1,
              "#f0f921"
             ]
            ],
            "type": "heatmap"
           }
          ],
          "heatmapgl": [
           {
            "colorbar": {
             "outlinewidth": 0,
             "ticks": ""
            },
            "colorscale": [
             [
              0,
              "#0d0887"
             ],
             [
              0.1111111111111111,
              "#46039f"
             ],
             [
              0.2222222222222222,
              "#7201a8"
             ],
             [
              0.3333333333333333,
              "#9c179e"
             ],
             [
              0.4444444444444444,
              "#bd3786"
             ],
             [
              0.5555555555555556,
              "#d8576b"
             ],
             [
              0.6666666666666666,
              "#ed7953"
             ],
             [
              0.7777777777777778,
              "#fb9f3a"
             ],
             [
              0.8888888888888888,
              "#fdca26"
             ],
             [
              1,
              "#f0f921"
             ]
            ],
            "type": "heatmapgl"
           }
          ],
          "histogram": [
           {
            "marker": {
             "pattern": {
              "fillmode": "overlay",
              "size": 10,
              "solidity": 0.2
             }
            },
            "type": "histogram"
           }
          ],
          "histogram2d": [
           {
            "colorbar": {
             "outlinewidth": 0,
             "ticks": ""
            },
            "colorscale": [
             [
              0,
              "#0d0887"
             ],
             [
              0.1111111111111111,
              "#46039f"
             ],
             [
              0.2222222222222222,
              "#7201a8"
             ],
             [
              0.3333333333333333,
              "#9c179e"
             ],
             [
              0.4444444444444444,
              "#bd3786"
             ],
             [
              0.5555555555555556,
              "#d8576b"
             ],
             [
              0.6666666666666666,
              "#ed7953"
             ],
             [
              0.7777777777777778,
              "#fb9f3a"
             ],
             [
              0.8888888888888888,
              "#fdca26"
             ],
             [
              1,
              "#f0f921"
             ]
            ],
            "type": "histogram2d"
           }
          ],
          "histogram2dcontour": [
           {
            "colorbar": {
             "outlinewidth": 0,
             "ticks": ""
            },
            "colorscale": [
             [
              0,
              "#0d0887"
             ],
             [
              0.1111111111111111,
              "#46039f"
             ],
             [
              0.2222222222222222,
              "#7201a8"
             ],
             [
              0.3333333333333333,
              "#9c179e"
             ],
             [
              0.4444444444444444,
              "#bd3786"
             ],
             [
              0.5555555555555556,
              "#d8576b"
             ],
             [
              0.6666666666666666,
              "#ed7953"
             ],
             [
              0.7777777777777778,
              "#fb9f3a"
             ],
             [
              0.8888888888888888,
              "#fdca26"
             ],
             [
              1,
              "#f0f921"
             ]
            ],
            "type": "histogram2dcontour"
           }
          ],
          "mesh3d": [
           {
            "colorbar": {
             "outlinewidth": 0,
             "ticks": ""
            },
            "type": "mesh3d"
           }
          ],
          "parcoords": [
           {
            "line": {
             "colorbar": {
              "outlinewidth": 0,
              "ticks": ""
             }
            },
            "type": "parcoords"
           }
          ],
          "pie": [
           {
            "automargin": true,
            "type": "pie"
           }
          ],
          "scatter": [
           {
            "fillpattern": {
             "fillmode": "overlay",
             "size": 10,
             "solidity": 0.2
            },
            "type": "scatter"
           }
          ],
          "scatter3d": [
           {
            "line": {
             "colorbar": {
              "outlinewidth": 0,
              "ticks": ""
             }
            },
            "marker": {
             "colorbar": {
              "outlinewidth": 0,
              "ticks": ""
             }
            },
            "type": "scatter3d"
           }
          ],
          "scattercarpet": [
           {
            "marker": {
             "colorbar": {
              "outlinewidth": 0,
              "ticks": ""
             }
            },
            "type": "scattercarpet"
           }
          ],
          "scattergeo": [
           {
            "marker": {
             "colorbar": {
              "outlinewidth": 0,
              "ticks": ""
             }
            },
            "type": "scattergeo"
           }
          ],
          "scattergl": [
           {
            "marker": {
             "colorbar": {
              "outlinewidth": 0,
              "ticks": ""
             }
            },
            "type": "scattergl"
           }
          ],
          "scattermapbox": [
           {
            "marker": {
             "colorbar": {
              "outlinewidth": 0,
              "ticks": ""
             }
            },
            "type": "scattermapbox"
           }
          ],
          "scatterpolar": [
           {
            "marker": {
             "colorbar": {
              "outlinewidth": 0,
              "ticks": ""
             }
            },
            "type": "scatterpolar"
           }
          ],
          "scatterpolargl": [
           {
            "marker": {
             "colorbar": {
              "outlinewidth": 0,
              "ticks": ""
             }
            },
            "type": "scatterpolargl"
           }
          ],
          "scatterternary": [
           {
            "marker": {
             "colorbar": {
              "outlinewidth": 0,
              "ticks": ""
             }
            },
            "type": "scatterternary"
           }
          ],
          "surface": [
           {
            "colorbar": {
             "outlinewidth": 0,
             "ticks": ""
            },
            "colorscale": [
             [
              0,
              "#0d0887"
             ],
             [
              0.1111111111111111,
              "#46039f"
             ],
             [
              0.2222222222222222,
              "#7201a8"
             ],
             [
              0.3333333333333333,
              "#9c179e"
             ],
             [
              0.4444444444444444,
              "#bd3786"
             ],
             [
              0.5555555555555556,
              "#d8576b"
             ],
             [
              0.6666666666666666,
              "#ed7953"
             ],
             [
              0.7777777777777778,
              "#fb9f3a"
             ],
             [
              0.8888888888888888,
              "#fdca26"
             ],
             [
              1,
              "#f0f921"
             ]
            ],
            "type": "surface"
           }
          ],
          "table": [
           {
            "cells": {
             "fill": {
              "color": "#EBF0F8"
             },
             "line": {
              "color": "white"
             }
            },
            "header": {
             "fill": {
              "color": "#C8D4E3"
             },
             "line": {
              "color": "white"
             }
            },
            "type": "table"
           }
          ]
         },
         "layout": {
          "annotationdefaults": {
           "arrowcolor": "#2a3f5f",
           "arrowhead": 0,
           "arrowwidth": 1
          },
          "autotypenumbers": "strict",
          "coloraxis": {
           "colorbar": {
            "outlinewidth": 0,
            "ticks": ""
           }
          },
          "colorscale": {
           "diverging": [
            [
             0,
             "#8e0152"
            ],
            [
             0.1,
             "#c51b7d"
            ],
            [
             0.2,
             "#de77ae"
            ],
            [
             0.3,
             "#f1b6da"
            ],
            [
             0.4,
             "#fde0ef"
            ],
            [
             0.5,
             "#f7f7f7"
            ],
            [
             0.6,
             "#e6f5d0"
            ],
            [
             0.7,
             "#b8e186"
            ],
            [
             0.8,
             "#7fbc41"
            ],
            [
             0.9,
             "#4d9221"
            ],
            [
             1,
             "#276419"
            ]
           ],
           "sequential": [
            [
             0,
             "#0d0887"
            ],
            [
             0.1111111111111111,
             "#46039f"
            ],
            [
             0.2222222222222222,
             "#7201a8"
            ],
            [
             0.3333333333333333,
             "#9c179e"
            ],
            [
             0.4444444444444444,
             "#bd3786"
            ],
            [
             0.5555555555555556,
             "#d8576b"
            ],
            [
             0.6666666666666666,
             "#ed7953"
            ],
            [
             0.7777777777777778,
             "#fb9f3a"
            ],
            [
             0.8888888888888888,
             "#fdca26"
            ],
            [
             1,
             "#f0f921"
            ]
           ],
           "sequentialminus": [
            [
             0,
             "#0d0887"
            ],
            [
             0.1111111111111111,
             "#46039f"
            ],
            [
             0.2222222222222222,
             "#7201a8"
            ],
            [
             0.3333333333333333,
             "#9c179e"
            ],
            [
             0.4444444444444444,
             "#bd3786"
            ],
            [
             0.5555555555555556,
             "#d8576b"
            ],
            [
             0.6666666666666666,
             "#ed7953"
            ],
            [
             0.7777777777777778,
             "#fb9f3a"
            ],
            [
             0.8888888888888888,
             "#fdca26"
            ],
            [
             1,
             "#f0f921"
            ]
           ]
          },
          "colorway": [
           "#636efa",
           "#EF553B",
           "#00cc96",
           "#ab63fa",
           "#FFA15A",
           "#19d3f3",
           "#FF6692",
           "#B6E880",
           "#FF97FF",
           "#FECB52"
          ],
          "font": {
           "color": "#2a3f5f"
          },
          "geo": {
           "bgcolor": "white",
           "lakecolor": "white",
           "landcolor": "#E5ECF6",
           "showlakes": true,
           "showland": true,
           "subunitcolor": "white"
          },
          "hoverlabel": {
           "align": "left"
          },
          "hovermode": "closest",
          "mapbox": {
           "style": "light"
          },
          "paper_bgcolor": "white",
          "plot_bgcolor": "#E5ECF6",
          "polar": {
           "angularaxis": {
            "gridcolor": "white",
            "linecolor": "white",
            "ticks": ""
           },
           "bgcolor": "#E5ECF6",
           "radialaxis": {
            "gridcolor": "white",
            "linecolor": "white",
            "ticks": ""
           }
          },
          "scene": {
           "xaxis": {
            "backgroundcolor": "#E5ECF6",
            "gridcolor": "white",
            "gridwidth": 2,
            "linecolor": "white",
            "showbackground": true,
            "ticks": "",
            "zerolinecolor": "white"
           },
           "yaxis": {
            "backgroundcolor": "#E5ECF6",
            "gridcolor": "white",
            "gridwidth": 2,
            "linecolor": "white",
            "showbackground": true,
            "ticks": "",
            "zerolinecolor": "white"
           },
           "zaxis": {
            "backgroundcolor": "#E5ECF6",
            "gridcolor": "white",
            "gridwidth": 2,
            "linecolor": "white",
            "showbackground": true,
            "ticks": "",
            "zerolinecolor": "white"
           }
          },
          "shapedefaults": {
           "line": {
            "color": "#2a3f5f"
           }
          },
          "ternary": {
           "aaxis": {
            "gridcolor": "white",
            "linecolor": "white",
            "ticks": ""
           },
           "baxis": {
            "gridcolor": "white",
            "linecolor": "white",
            "ticks": ""
           },
           "bgcolor": "#E5ECF6",
           "caxis": {
            "gridcolor": "white",
            "linecolor": "white",
            "ticks": ""
           }
          },
          "title": {
           "x": 0.05
          },
          "xaxis": {
           "automargin": true,
           "gridcolor": "white",
           "linecolor": "white",
           "ticks": "",
           "title": {
            "standoff": 15
           },
           "zerolinecolor": "white",
           "zerolinewidth": 2
          },
          "yaxis": {
           "automargin": true,
           "gridcolor": "white",
           "linecolor": "white",
           "ticks": "",
           "title": {
            "standoff": 15
           },
           "zerolinecolor": "white",
           "zerolinewidth": 2
          }
         }
        },
        "title": {
         "font": {
          "color": "#333333",
          "family": "Arial, bold",
          "size": 24
         },
         "text": "Población por Género en Departamentos: Colón, Ischilín, Totoral y Tulumba",
         "x": 0.5,
         "xanchor": "center",
         "y": 0.9,
         "yanchor": "top"
        },
        "xaxis": {
         "gridcolor": "rgba(200, 200, 200, 0.5)",
         "gridwidth": 1,
         "tickfont": {
          "color": "#333333",
          "family": "Arial",
          "size": 14
         },
         "title": {
          "font": {
           "color": "#333333",
           "family": "Arial",
           "size": 18
          },
          "text": "(Departamentos)"
         }
        },
        "yaxis": {
         "gridcolor": "rgba(200, 200, 200, 0.5)",
         "gridwidth": 1,
         "tickfont": {
          "color": "#333333",
          "family": "Arial",
          "size": 14
         },
         "title": {
          "font": {
           "color": "#333333",
           "family": "Arial",
           "size": 18
          },
          "text": "(Población)"
         }
        }
       }
      },
      "text/html": [
       "<div>                            <div id=\"c1e88fab-9c35-45f0-a1c4-e7e2a3f8db75\" class=\"plotly-graph-div\" style=\"height:525px; width:100%;\"></div>            <script type=\"text/javascript\">                require([\"plotly\"], function(Plotly) {                    window.PLOTLYENV=window.PLOTLYENV || {};                                    if (document.getElementById(\"c1e88fab-9c35-45f0-a1c4-e7e2a3f8db75\")) {                    Plotly.newPlot(                        \"c1e88fab-9c35-45f0-a1c4-e7e2a3f8db75\",                        [{\"marker\":{\"color\":\"#1f77b4\"},\"name\":\"Masculino\",\"text\":[\"144065\",\"17482\",\"11201\",\"7052\"],\"textfont\":{\"color\":\"#000000\",\"family\":\"Arial, bold\",\"size\":15},\"textposition\":\"auto\",\"x\":[\"Col\\u00f3n\",\" Ischil\\u00edn\",\" Totoral\",\" Tulumba\"],\"y\":[144065,17482,11201,7052],\"type\":\"bar\"},{\"marker\":{\"color\":\"#ff7f0e\"},\"name\":\"Femenino\",\"text\":[\"151660\",\"18592\",\"11294\",\"7082\"],\"textfont\":{\"color\":\"#000000\",\"family\":\"Arial, bold\",\"size\":15},\"textposition\":\"auto\",\"x\":[\"Col\\u00f3n\",\" Ischil\\u00edn\",\" Totoral\",\" Tulumba\"],\"y\":[151660,18592,11294,7082],\"type\":\"bar\"}],                        {\"template\":{\"data\":{\"histogram2dcontour\":[{\"type\":\"histogram2dcontour\",\"colorbar\":{\"outlinewidth\":0,\"ticks\":\"\"},\"colorscale\":[[0.0,\"#0d0887\"],[0.1111111111111111,\"#46039f\"],[0.2222222222222222,\"#7201a8\"],[0.3333333333333333,\"#9c179e\"],[0.4444444444444444,\"#bd3786\"],[0.5555555555555556,\"#d8576b\"],[0.6666666666666666,\"#ed7953\"],[0.7777777777777778,\"#fb9f3a\"],[0.8888888888888888,\"#fdca26\"],[1.0,\"#f0f921\"]]}],\"choropleth\":[{\"type\":\"choropleth\",\"colorbar\":{\"outlinewidth\":0,\"ticks\":\"\"}}],\"histogram2d\":[{\"type\":\"histogram2d\",\"colorbar\":{\"outlinewidth\":0,\"ticks\":\"\"},\"colorscale\":[[0.0,\"#0d0887\"],[0.1111111111111111,\"#46039f\"],[0.2222222222222222,\"#7201a8\"],[0.3333333333333333,\"#9c179e\"],[0.4444444444444444,\"#bd3786\"],[0.5555555555555556,\"#d8576b\"],[0.6666666666666666,\"#ed7953\"],[0.7777777777777778,\"#fb9f3a\"],[0.8888888888888888,\"#fdca26\"],[1.0,\"#f0f921\"]]}],\"heatmap\":[{\"type\":\"heatmap\",\"colorbar\":{\"outlinewidth\":0,\"ticks\":\"\"},\"colorscale\":[[0.0,\"#0d0887\"],[0.1111111111111111,\"#46039f\"],[0.2222222222222222,\"#7201a8\"],[0.3333333333333333,\"#9c179e\"],[0.4444444444444444,\"#bd3786\"],[0.5555555555555556,\"#d8576b\"],[0.6666666666666666,\"#ed7953\"],[0.7777777777777778,\"#fb9f3a\"],[0.8888888888888888,\"#fdca26\"],[1.0,\"#f0f921\"]]}],\"heatmapgl\":[{\"type\":\"heatmapgl\",\"colorbar\":{\"outlinewidth\":0,\"ticks\":\"\"},\"colorscale\":[[0.0,\"#0d0887\"],[0.1111111111111111,\"#46039f\"],[0.2222222222222222,\"#7201a8\"],[0.3333333333333333,\"#9c179e\"],[0.4444444444444444,\"#bd3786\"],[0.5555555555555556,\"#d8576b\"],[0.6666666666666666,\"#ed7953\"],[0.7777777777777778,\"#fb9f3a\"],[0.8888888888888888,\"#fdca26\"],[1.0,\"#f0f921\"]]}],\"contourcarpet\":[{\"type\":\"contourcarpet\",\"colorbar\":{\"outlinewidth\":0,\"ticks\":\"\"}}],\"contour\":[{\"type\":\"contour\",\"colorbar\":{\"outlinewidth\":0,\"ticks\":\"\"},\"colorscale\":[[0.0,\"#0d0887\"],[0.1111111111111111,\"#46039f\"],[0.2222222222222222,\"#7201a8\"],[0.3333333333333333,\"#9c179e\"],[0.4444444444444444,\"#bd3786\"],[0.5555555555555556,\"#d8576b\"],[0.6666666666666666,\"#ed7953\"],[0.7777777777777778,\"#fb9f3a\"],[0.8888888888888888,\"#fdca26\"],[1.0,\"#f0f921\"]]}],\"surface\":[{\"type\":\"surface\",\"colorbar\":{\"outlinewidth\":0,\"ticks\":\"\"},\"colorscale\":[[0.0,\"#0d0887\"],[0.1111111111111111,\"#46039f\"],[0.2222222222222222,\"#7201a8\"],[0.3333333333333333,\"#9c179e\"],[0.4444444444444444,\"#bd3786\"],[0.5555555555555556,\"#d8576b\"],[0.6666666666666666,\"#ed7953\"],[0.7777777777777778,\"#fb9f3a\"],[0.8888888888888888,\"#fdca26\"],[1.0,\"#f0f921\"]]}],\"mesh3d\":[{\"type\":\"mesh3d\",\"colorbar\":{\"outlinewidth\":0,\"ticks\":\"\"}}],\"scatter\":[{\"fillpattern\":{\"fillmode\":\"overlay\",\"size\":10,\"solidity\":0.2},\"type\":\"scatter\"}],\"parcoords\":[{\"type\":\"parcoords\",\"line\":{\"colorbar\":{\"outlinewidth\":0,\"ticks\":\"\"}}}],\"scatterpolargl\":[{\"type\":\"scatterpolargl\",\"marker\":{\"colorbar\":{\"outlinewidth\":0,\"ticks\":\"\"}}}],\"bar\":[{\"error_x\":{\"color\":\"#2a3f5f\"},\"error_y\":{\"color\":\"#2a3f5f\"},\"marker\":{\"line\":{\"color\":\"#E5ECF6\",\"width\":0.5},\"pattern\":{\"fillmode\":\"overlay\",\"size\":10,\"solidity\":0.2}},\"type\":\"bar\"}],\"scattergeo\":[{\"type\":\"scattergeo\",\"marker\":{\"colorbar\":{\"outlinewidth\":0,\"ticks\":\"\"}}}],\"scatterpolar\":[{\"type\":\"scatterpolar\",\"marker\":{\"colorbar\":{\"outlinewidth\":0,\"ticks\":\"\"}}}],\"histogram\":[{\"marker\":{\"pattern\":{\"fillmode\":\"overlay\",\"size\":10,\"solidity\":0.2}},\"type\":\"histogram\"}],\"scattergl\":[{\"type\":\"scattergl\",\"marker\":{\"colorbar\":{\"outlinewidth\":0,\"ticks\":\"\"}}}],\"scatter3d\":[{\"type\":\"scatter3d\",\"line\":{\"colorbar\":{\"outlinewidth\":0,\"ticks\":\"\"}},\"marker\":{\"colorbar\":{\"outlinewidth\":0,\"ticks\":\"\"}}}],\"scattermapbox\":[{\"type\":\"scattermapbox\",\"marker\":{\"colorbar\":{\"outlinewidth\":0,\"ticks\":\"\"}}}],\"scatterternary\":[{\"type\":\"scatterternary\",\"marker\":{\"colorbar\":{\"outlinewidth\":0,\"ticks\":\"\"}}}],\"scattercarpet\":[{\"type\":\"scattercarpet\",\"marker\":{\"colorbar\":{\"outlinewidth\":0,\"ticks\":\"\"}}}],\"carpet\":[{\"aaxis\":{\"endlinecolor\":\"#2a3f5f\",\"gridcolor\":\"white\",\"linecolor\":\"white\",\"minorgridcolor\":\"white\",\"startlinecolor\":\"#2a3f5f\"},\"baxis\":{\"endlinecolor\":\"#2a3f5f\",\"gridcolor\":\"white\",\"linecolor\":\"white\",\"minorgridcolor\":\"white\",\"startlinecolor\":\"#2a3f5f\"},\"type\":\"carpet\"}],\"table\":[{\"cells\":{\"fill\":{\"color\":\"#EBF0F8\"},\"line\":{\"color\":\"white\"}},\"header\":{\"fill\":{\"color\":\"#C8D4E3\"},\"line\":{\"color\":\"white\"}},\"type\":\"table\"}],\"barpolar\":[{\"marker\":{\"line\":{\"color\":\"#E5ECF6\",\"width\":0.5},\"pattern\":{\"fillmode\":\"overlay\",\"size\":10,\"solidity\":0.2}},\"type\":\"barpolar\"}],\"pie\":[{\"automargin\":true,\"type\":\"pie\"}]},\"layout\":{\"autotypenumbers\":\"strict\",\"colorway\":[\"#636efa\",\"#EF553B\",\"#00cc96\",\"#ab63fa\",\"#FFA15A\",\"#19d3f3\",\"#FF6692\",\"#B6E880\",\"#FF97FF\",\"#FECB52\"],\"font\":{\"color\":\"#2a3f5f\"},\"hovermode\":\"closest\",\"hoverlabel\":{\"align\":\"left\"},\"paper_bgcolor\":\"white\",\"plot_bgcolor\":\"#E5ECF6\",\"polar\":{\"bgcolor\":\"#E5ECF6\",\"angularaxis\":{\"gridcolor\":\"white\",\"linecolor\":\"white\",\"ticks\":\"\"},\"radialaxis\":{\"gridcolor\":\"white\",\"linecolor\":\"white\",\"ticks\":\"\"}},\"ternary\":{\"bgcolor\":\"#E5ECF6\",\"aaxis\":{\"gridcolor\":\"white\",\"linecolor\":\"white\",\"ticks\":\"\"},\"baxis\":{\"gridcolor\":\"white\",\"linecolor\":\"white\",\"ticks\":\"\"},\"caxis\":{\"gridcolor\":\"white\",\"linecolor\":\"white\",\"ticks\":\"\"}},\"coloraxis\":{\"colorbar\":{\"outlinewidth\":0,\"ticks\":\"\"}},\"colorscale\":{\"sequential\":[[0.0,\"#0d0887\"],[0.1111111111111111,\"#46039f\"],[0.2222222222222222,\"#7201a8\"],[0.3333333333333333,\"#9c179e\"],[0.4444444444444444,\"#bd3786\"],[0.5555555555555556,\"#d8576b\"],[0.6666666666666666,\"#ed7953\"],[0.7777777777777778,\"#fb9f3a\"],[0.8888888888888888,\"#fdca26\"],[1.0,\"#f0f921\"]],\"sequentialminus\":[[0.0,\"#0d0887\"],[0.1111111111111111,\"#46039f\"],[0.2222222222222222,\"#7201a8\"],[0.3333333333333333,\"#9c179e\"],[0.4444444444444444,\"#bd3786\"],[0.5555555555555556,\"#d8576b\"],[0.6666666666666666,\"#ed7953\"],[0.7777777777777778,\"#fb9f3a\"],[0.8888888888888888,\"#fdca26\"],[1.0,\"#f0f921\"]],\"diverging\":[[0,\"#8e0152\"],[0.1,\"#c51b7d\"],[0.2,\"#de77ae\"],[0.3,\"#f1b6da\"],[0.4,\"#fde0ef\"],[0.5,\"#f7f7f7\"],[0.6,\"#e6f5d0\"],[0.7,\"#b8e186\"],[0.8,\"#7fbc41\"],[0.9,\"#4d9221\"],[1,\"#276419\"]]},\"xaxis\":{\"gridcolor\":\"white\",\"linecolor\":\"white\",\"ticks\":\"\",\"title\":{\"standoff\":15},\"zerolinecolor\":\"white\",\"automargin\":true,\"zerolinewidth\":2},\"yaxis\":{\"gridcolor\":\"white\",\"linecolor\":\"white\",\"ticks\":\"\",\"title\":{\"standoff\":15},\"zerolinecolor\":\"white\",\"automargin\":true,\"zerolinewidth\":2},\"scene\":{\"xaxis\":{\"backgroundcolor\":\"#E5ECF6\",\"gridcolor\":\"white\",\"linecolor\":\"white\",\"showbackground\":true,\"ticks\":\"\",\"zerolinecolor\":\"white\",\"gridwidth\":2},\"yaxis\":{\"backgroundcolor\":\"#E5ECF6\",\"gridcolor\":\"white\",\"linecolor\":\"white\",\"showbackground\":true,\"ticks\":\"\",\"zerolinecolor\":\"white\",\"gridwidth\":2},\"zaxis\":{\"backgroundcolor\":\"#E5ECF6\",\"gridcolor\":\"white\",\"linecolor\":\"white\",\"showbackground\":true,\"ticks\":\"\",\"zerolinecolor\":\"white\",\"gridwidth\":2}},\"shapedefaults\":{\"line\":{\"color\":\"#2a3f5f\"}},\"annotationdefaults\":{\"arrowcolor\":\"#2a3f5f\",\"arrowhead\":0,\"arrowwidth\":1},\"geo\":{\"bgcolor\":\"white\",\"landcolor\":\"#E5ECF6\",\"subunitcolor\":\"white\",\"showland\":true,\"showlakes\":true,\"lakecolor\":\"white\"},\"title\":{\"x\":0.05},\"mapbox\":{\"style\":\"light\"}}},\"title\":{\"font\":{\"size\":24,\"family\":\"Arial, bold\",\"color\":\"#333333\"},\"text\":\"Poblaci\\u00f3n por G\\u00e9nero en Departamentos: Col\\u00f3n, Ischil\\u00edn, Totoral y Tulumba\",\"y\":0.9,\"x\":0.5,\"xanchor\":\"center\",\"yanchor\":\"top\"},\"xaxis\":{\"title\":{\"text\":\"(Departamentos)\",\"font\":{\"size\":18,\"family\":\"Arial\",\"color\":\"#333333\"}},\"tickfont\":{\"size\":14,\"family\":\"Arial\",\"color\":\"#333333\"},\"gridcolor\":\"rgba(200, 200, 200, 0.5)\",\"gridwidth\":1},\"yaxis\":{\"title\":{\"text\":\"(Poblaci\\u00f3n)\",\"font\":{\"size\":18,\"family\":\"Arial\",\"color\":\"#333333\"}},\"tickfont\":{\"size\":14,\"family\":\"Arial\",\"color\":\"#333333\"},\"gridcolor\":\"rgba(200, 200, 200, 0.5)\",\"gridwidth\":1},\"legend\":{\"font\":{\"size\":14,\"family\":\"Arial\",\"color\":\"#333333\"},\"title\":{\"text\":\"G\\u00e9nero\"}},\"margin\":{\"l\":20,\"r\":20,\"t\":70,\"b\":70},\"barmode\":\"stack\",\"bargap\":0.15,\"plot_bgcolor\":\"rgba(255,255,255,1)\",\"paper_bgcolor\":\"rgba(255,255,255,1)\",\"annotations\":[{\"align\":\"center\",\"font\":{\"color\":\"#333333\",\"family\":\"Arial, italic\",\"size\":12},\"showarrow\":false,\"text\":\"Gr\\u00e1fico: desarrolladorsarmientino.com\",\"x\":0.5,\"xref\":\"paper\",\"y\":-0.19,\"yref\":\"paper\"}]},                        {\"responsive\": true}                    ).then(function(){\n",
       "                            \n",
       "var gd = document.getElementById('c1e88fab-9c35-45f0-a1c4-e7e2a3f8db75');\n",
       "var x = new MutationObserver(function (mutations, observer) {{\n",
       "        var display = window.getComputedStyle(gd).display;\n",
       "        if (!display || display === 'none') {{\n",
       "            console.log([gd, 'removed!']);\n",
       "            Plotly.purge(gd);\n",
       "            observer.disconnect();\n",
       "        }}\n",
       "}});\n",
       "\n",
       "// Listen for the removal of the full notebook cells\n",
       "var notebookContainer = gd.closest('#notebook-container');\n",
       "if (notebookContainer) {{\n",
       "    x.observe(notebookContainer, {childList: true});\n",
       "}}\n",
       "\n",
       "// Listen for the clearing of the current output cell\n",
       "var outputEl = gd.closest('.output');\n",
       "if (outputEl) {{\n",
       "    x.observe(outputEl, {childList: true});\n",
       "}}\n",
       "\n",
       "                        })                };                });            </script>        </div>"
      ]
     },
     "metadata": {},
     "output_type": "display_data"
    }
   ],
   "source": [
    "import plotly.graph_objects as go\n",
    "\n",
    "# Datos del dataframe\n",
    "departamentos = [\"Colón\", \" Ischilín\", \" Totoral\", \" Tulumba\"]\n",
    "masculino = [144065, 17482, 11201, 7052]\n",
    "femenino = [151660, 18592, 11294, 7082]\n",
    "\n",
    "# Crear la figura de barras apiladas\n",
    "fig = go.Figure()\n",
    "\n",
    "fig.add_trace(go.Bar(\n",
    "    x=departamentos,\n",
    "    y=masculino,\n",
    "    name='Masculino',\n",
    "    text=masculino,\n",
    "    textposition='auto',\n",
    "    marker=dict(color='#1f77b4'),\n",
    "    textfont=dict(size=15, color='#000000', family='Arial, bold')\n",
    "))\n",
    "\n",
    "fig.add_trace(go.Bar(\n",
    "    x=departamentos,\n",
    "    y=femenino,\n",
    "    name='Femenino',\n",
    "    text=femenino,\n",
    "    textposition='auto',\n",
    "    marker=dict(color='#ff7f0e'),\n",
    "    textfont=dict(size=15, color='#000000', family='Arial, bold')\n",
    "))\n",
    "\n",
    "# Mejorar el diseño del gráfico\n",
    "fig.update_layout(\n",
    "    title={\n",
    "        'text': \"Población por Género en Departamentos: Colón, Ischilín, Totoral y Tulumba\",\n",
    "        'y':0.9,\n",
    "        'x':0.5,\n",
    "        'xanchor': 'center',\n",
    "        'yanchor': 'top'\n",
    "    },\n",
    "    title_font=dict(size=24, family='Arial, bold', color='#333333'),\n",
    "    xaxis_title='(Departamentos)',\n",
    "    yaxis_title='(Población)',\n",
    "    xaxis_title_font=dict(size=18, family='Arial', color='#333333'),\n",
    "    yaxis_title_font=dict(size=18, family='Arial', color='#333333'),\n",
    "    xaxis_tickfont=dict(size=14, family='Arial', color='#333333'),\n",
    "    yaxis_tickfont=dict(size=14, family='Arial', color='#333333'),\n",
    "    legend_title=\"Género\",\n",
    "    legend_font=dict(size=14, family='Arial', color='#333333'),\n",
    "    barmode='stack',\n",
    "    bargap=0.15,\n",
    "    plot_bgcolor='rgba(255,255,255,1)',\n",
    "    paper_bgcolor='rgba(255,255,255,1)',\n",
    "    margin=dict(l=20, r=20, t=70, b=70),\n",
    "    xaxis=dict(\n",
    "        gridcolor='rgba(200, 200, 200, 0.5)',\n",
    "        gridwidth=1\n",
    "    ),\n",
    "    yaxis=dict(\n",
    "        gridcolor='rgba(200, 200, 200, 0.5)',\n",
    "        gridwidth=1\n",
    "    )\n",
    ")\n",
    "\n",
    "# Añadir el epígrafe\n",
    "fig.add_annotation(\n",
    "    x=0.5,\n",
    "    y=-0.19,\n",
    "    text=\"Gráfico: desarrolladorsarmientino.com\",\n",
    "    showarrow=False,\n",
    "    xref=\"paper\",\n",
    "    yref=\"paper\",\n",
    "    font=dict(size=12, color='#333333', family='Arial, italic'),\n",
    "    align=\"center\"\n",
    ")\n",
    "\n",
    "# Mostrar el gráfico\n",
    "fig.show()\n"
   ]
  },
  {
   "cell_type": "code",
   "execution_count": 90,
   "id": "45310d71",
   "metadata": {},
   "outputs": [
    {
     "data": {
      "text/html": [
       "<div>\n",
       "<style scoped>\n",
       "    .dataframe tbody tr th:only-of-type {\n",
       "        vertical-align: middle;\n",
       "    }\n",
       "\n",
       "    .dataframe tbody tr th {\n",
       "        vertical-align: top;\n",
       "    }\n",
       "\n",
       "    .dataframe thead th {\n",
       "        text-align: right;\n",
       "    }\n",
       "</style>\n",
       "<table border=\"1\" class=\"dataframe\">\n",
       "  <thead>\n",
       "    <tr style=\"text-align: right;\">\n",
       "      <th></th>\n",
       "      <th>Departamento</th>\n",
       "      <th>Total_viviendas</th>\n",
       "      <th>Total_viviendas_colectivas</th>\n",
       "      <th>Total_viviendas_particular</th>\n",
       "      <th>Hogares</th>\n",
       "      <th>Total_población</th>\n",
       "      <th>Población_en_viviendas_particulares</th>\n",
       "      <th>Población_en_viviendas_colectivas(1)</th>\n",
       "      <th>Población_situación_calle(vía pública)</th>\n",
       "      <th>Femenino</th>\n",
       "      <th>Masculino</th>\n",
       "    </tr>\n",
       "  </thead>\n",
       "  <tbody>\n",
       "    <tr>\n",
       "      <th>0</th>\n",
       "      <td>Calamuchita</td>\n",
       "      <td>44179</td>\n",
       "      <td>79</td>\n",
       "      <td>44100</td>\n",
       "      <td>28298</td>\n",
       "      <td>75911</td>\n",
       "      <td>75462</td>\n",
       "      <td>449</td>\n",
       "      <td>0</td>\n",
       "      <td>38395</td>\n",
       "      <td>37516</td>\n",
       "    </tr>\n",
       "    <tr>\n",
       "      <th>1</th>\n",
       "      <td>Capital</td>\n",
       "      <td>613263</td>\n",
       "      <td>284</td>\n",
       "      <td>612979</td>\n",
       "      <td>553470</td>\n",
       "      <td>1505250</td>\n",
       "      <td>1498060</td>\n",
       "      <td>7090</td>\n",
       "      <td>100</td>\n",
       "      <td>789418</td>\n",
       "      <td>715832</td>\n",
       "    </tr>\n",
       "    <tr>\n",
       "      <th>2</th>\n",
       "      <td>Colón</td>\n",
       "      <td>107390</td>\n",
       "      <td>97</td>\n",
       "      <td>107293</td>\n",
       "      <td>97732</td>\n",
       "      <td>295725</td>\n",
       "      <td>294511</td>\n",
       "      <td>1213</td>\n",
       "      <td>1</td>\n",
       "      <td>151660</td>\n",
       "      <td>144065</td>\n",
       "    </tr>\n",
       "    <tr>\n",
       "      <th>3</th>\n",
       "      <td>Cruz del Eje</td>\n",
       "      <td>24366</td>\n",
       "      <td>42</td>\n",
       "      <td>24324</td>\n",
       "      <td>21425</td>\n",
       "      <td>67112</td>\n",
       "      <td>64748</td>\n",
       "      <td>2364</td>\n",
       "      <td>0</td>\n",
       "      <td>33487</td>\n",
       "      <td>33625</td>\n",
       "    </tr>\n",
       "    <tr>\n",
       "      <th>4</th>\n",
       "      <td>General Roca</td>\n",
       "      <td>15965</td>\n",
       "      <td>21</td>\n",
       "      <td>15944</td>\n",
       "      <td>13556</td>\n",
       "      <td>36242</td>\n",
       "      <td>36064</td>\n",
       "      <td>178</td>\n",
       "      <td>0</td>\n",
       "      <td>18024</td>\n",
       "      <td>18218</td>\n",
       "    </tr>\n",
       "    <tr>\n",
       "      <th>5</th>\n",
       "      <td>General San Martín</td>\n",
       "      <td>68017</td>\n",
       "      <td>49</td>\n",
       "      <td>67968</td>\n",
       "      <td>57886</td>\n",
       "      <td>154269</td>\n",
       "      <td>152397</td>\n",
       "      <td>1867</td>\n",
       "      <td>5</td>\n",
       "      <td>79053</td>\n",
       "      <td>75216</td>\n",
       "    </tr>\n",
       "    <tr>\n",
       "      <th>6</th>\n",
       "      <td>Ischilín</td>\n",
       "      <td>14213</td>\n",
       "      <td>7</td>\n",
       "      <td>14206</td>\n",
       "      <td>11660</td>\n",
       "      <td>36074</td>\n",
       "      <td>36023</td>\n",
       "      <td>51</td>\n",
       "      <td>0</td>\n",
       "      <td>18592</td>\n",
       "      <td>17482</td>\n",
       "    </tr>\n",
       "    <tr>\n",
       "      <th>7</th>\n",
       "      <td>Juárez Celman</td>\n",
       "      <td>28023</td>\n",
       "      <td>38</td>\n",
       "      <td>27985</td>\n",
       "      <td>24974</td>\n",
       "      <td>68631</td>\n",
       "      <td>68317</td>\n",
       "      <td>314</td>\n",
       "      <td>0</td>\n",
       "      <td>34743</td>\n",
       "      <td>33888</td>\n",
       "    </tr>\n",
       "    <tr>\n",
       "      <th>8</th>\n",
       "      <td>Marcos Juárez</td>\n",
       "      <td>49366</td>\n",
       "      <td>45</td>\n",
       "      <td>49321</td>\n",
       "      <td>41894</td>\n",
       "      <td>107764</td>\n",
       "      <td>107286</td>\n",
       "      <td>478</td>\n",
       "      <td>0</td>\n",
       "      <td>55282</td>\n",
       "      <td>52482</td>\n",
       "    </tr>\n",
       "    <tr>\n",
       "      <th>9</th>\n",
       "      <td>Minas</td>\n",
       "      <td>2536</td>\n",
       "      <td>1</td>\n",
       "      <td>2535</td>\n",
       "      <td>1815</td>\n",
       "      <td>4870</td>\n",
       "      <td>4855</td>\n",
       "      <td>15</td>\n",
       "      <td>0</td>\n",
       "      <td>2397</td>\n",
       "      <td>2473</td>\n",
       "    </tr>\n",
       "    <tr>\n",
       "      <th>10</th>\n",
       "      <td>Pocho</td>\n",
       "      <td>2798</td>\n",
       "      <td>11</td>\n",
       "      <td>2787</td>\n",
       "      <td>1911</td>\n",
       "      <td>5123</td>\n",
       "      <td>5070</td>\n",
       "      <td>53</td>\n",
       "      <td>0</td>\n",
       "      <td>2535</td>\n",
       "      <td>2588</td>\n",
       "    </tr>\n",
       "    <tr>\n",
       "      <th>11</th>\n",
       "      <td>Presidente Roque Sáenz Peña</td>\n",
       "      <td>16480</td>\n",
       "      <td>22</td>\n",
       "      <td>16458</td>\n",
       "      <td>14169</td>\n",
       "      <td>37726</td>\n",
       "      <td>37551</td>\n",
       "      <td>175</td>\n",
       "      <td>0</td>\n",
       "      <td>19057</td>\n",
       "      <td>18669</td>\n",
       "    </tr>\n",
       "    <tr>\n",
       "      <th>12</th>\n",
       "      <td>Punilla</td>\n",
       "      <td>107485</td>\n",
       "      <td>190</td>\n",
       "      <td>107295</td>\n",
       "      <td>82780</td>\n",
       "      <td>221273</td>\n",
       "      <td>219494</td>\n",
       "      <td>1779</td>\n",
       "      <td>0</td>\n",
       "      <td>115640</td>\n",
       "      <td>105633</td>\n",
       "    </tr>\n",
       "    <tr>\n",
       "      <th>13</th>\n",
       "      <td>Río Cuarto</td>\n",
       "      <td>126096</td>\n",
       "      <td>113</td>\n",
       "      <td>125983</td>\n",
       "      <td>105896</td>\n",
       "      <td>279923</td>\n",
       "      <td>277979</td>\n",
       "      <td>1918</td>\n",
       "      <td>26</td>\n",
       "      <td>145041</td>\n",
       "      <td>134882</td>\n",
       "    </tr>\n",
       "    <tr>\n",
       "      <th>14</th>\n",
       "      <td>Río Primero</td>\n",
       "      <td>22293</td>\n",
       "      <td>17</td>\n",
       "      <td>22276</td>\n",
       "      <td>19338</td>\n",
       "      <td>58428</td>\n",
       "      <td>58181</td>\n",
       "      <td>247</td>\n",
       "      <td>0</td>\n",
       "      <td>29513</td>\n",
       "      <td>28915</td>\n",
       "    </tr>\n",
       "    <tr>\n",
       "      <th>15</th>\n",
       "      <td>Río Seco</td>\n",
       "      <td>6492</td>\n",
       "      <td>7</td>\n",
       "      <td>6485</td>\n",
       "      <td>5150</td>\n",
       "      <td>15302</td>\n",
       "      <td>15275</td>\n",
       "      <td>27</td>\n",
       "      <td>0</td>\n",
       "      <td>7644</td>\n",
       "      <td>7658</td>\n",
       "    </tr>\n",
       "    <tr>\n",
       "      <th>16</th>\n",
       "      <td>Río Segundo</td>\n",
       "      <td>45261</td>\n",
       "      <td>52</td>\n",
       "      <td>45209</td>\n",
       "      <td>40511</td>\n",
       "      <td>113950</td>\n",
       "      <td>113311</td>\n",
       "      <td>639</td>\n",
       "      <td>0</td>\n",
       "      <td>58723</td>\n",
       "      <td>55227</td>\n",
       "    </tr>\n",
       "    <tr>\n",
       "      <th>17</th>\n",
       "      <td>San Alberto</td>\n",
       "      <td>19353</td>\n",
       "      <td>28</td>\n",
       "      <td>19325</td>\n",
       "      <td>14665</td>\n",
       "      <td>42166</td>\n",
       "      <td>42029</td>\n",
       "      <td>137</td>\n",
       "      <td>0</td>\n",
       "      <td>21584</td>\n",
       "      <td>20582</td>\n",
       "    </tr>\n",
       "    <tr>\n",
       "      <th>18</th>\n",
       "      <td>San Javier</td>\n",
       "      <td>29004</td>\n",
       "      <td>37</td>\n",
       "      <td>28967</td>\n",
       "      <td>22830</td>\n",
       "      <td>63377</td>\n",
       "      <td>62700</td>\n",
       "      <td>677</td>\n",
       "      <td>0</td>\n",
       "      <td>32845</td>\n",
       "      <td>30532</td>\n",
       "    </tr>\n",
       "    <tr>\n",
       "      <th>19</th>\n",
       "      <td>San Justo</td>\n",
       "      <td>96754</td>\n",
       "      <td>100</td>\n",
       "      <td>96654</td>\n",
       "      <td>85574</td>\n",
       "      <td>230339</td>\n",
       "      <td>228951</td>\n",
       "      <td>1384</td>\n",
       "      <td>4</td>\n",
       "      <td>117730</td>\n",
       "      <td>112609</td>\n",
       "    </tr>\n",
       "    <tr>\n",
       "      <th>20</th>\n",
       "      <td>Santa María</td>\n",
       "      <td>58851</td>\n",
       "      <td>55</td>\n",
       "      <td>58796</td>\n",
       "      <td>46836</td>\n",
       "      <td>144829</td>\n",
       "      <td>139012</td>\n",
       "      <td>5817</td>\n",
       "      <td>0</td>\n",
       "      <td>71863</td>\n",
       "      <td>72966</td>\n",
       "    </tr>\n",
       "    <tr>\n",
       "      <th>21</th>\n",
       "      <td>Sobremonte</td>\n",
       "      <td>1989</td>\n",
       "      <td>1</td>\n",
       "      <td>1988</td>\n",
       "      <td>1515</td>\n",
       "      <td>4503</td>\n",
       "      <td>4381</td>\n",
       "      <td>122</td>\n",
       "      <td>0</td>\n",
       "      <td>2248</td>\n",
       "      <td>2255</td>\n",
       "    </tr>\n",
       "    <tr>\n",
       "      <th>22</th>\n",
       "      <td>Tercero Arriba</td>\n",
       "      <td>51336</td>\n",
       "      <td>54</td>\n",
       "      <td>51282</td>\n",
       "      <td>45250</td>\n",
       "      <td>120918</td>\n",
       "      <td>120207</td>\n",
       "      <td>711</td>\n",
       "      <td>0</td>\n",
       "      <td>62495</td>\n",
       "      <td>58423</td>\n",
       "    </tr>\n",
       "    <tr>\n",
       "      <th>23</th>\n",
       "      <td>Totoral</td>\n",
       "      <td>9071</td>\n",
       "      <td>5</td>\n",
       "      <td>9066</td>\n",
       "      <td>7531</td>\n",
       "      <td>22495</td>\n",
       "      <td>22473</td>\n",
       "      <td>22</td>\n",
       "      <td>0</td>\n",
       "      <td>11294</td>\n",
       "      <td>11201</td>\n",
       "    </tr>\n",
       "    <tr>\n",
       "      <th>24</th>\n",
       "      <td>Tulumba</td>\n",
       "      <td>7055</td>\n",
       "      <td>6</td>\n",
       "      <td>7049</td>\n",
       "      <td>5147</td>\n",
       "      <td>14134</td>\n",
       "      <td>14092</td>\n",
       "      <td>42</td>\n",
       "      <td>0</td>\n",
       "      <td>7082</td>\n",
       "      <td>7052</td>\n",
       "    </tr>\n",
       "    <tr>\n",
       "      <th>25</th>\n",
       "      <td>Unión</td>\n",
       "      <td>48481</td>\n",
       "      <td>62</td>\n",
       "      <td>48419</td>\n",
       "      <td>42587</td>\n",
       "      <td>114571</td>\n",
       "      <td>113635</td>\n",
       "      <td>936</td>\n",
       "      <td>0</td>\n",
       "      <td>58165</td>\n",
       "      <td>56406</td>\n",
       "    </tr>\n",
       "    <tr>\n",
       "      <th>26</th>\n",
       "      <td>Total Provincia</td>\n",
       "      <td>1616117</td>\n",
       "      <td>1423</td>\n",
       "      <td>1614694</td>\n",
       "      <td>1394400</td>\n",
       "      <td>3840905</td>\n",
       "      <td>3812064</td>\n",
       "      <td>28705</td>\n",
       "      <td>136</td>\n",
       "      <td>1984510</td>\n",
       "      <td>1856395</td>\n",
       "    </tr>\n",
       "  </tbody>\n",
       "</table>\n",
       "</div>"
      ],
      "text/plain": [
       "                   Departamento  Total_viviendas  Total_viviendas_colectivas  \\\n",
       "0                   Calamuchita            44179                          79   \n",
       "1                       Capital           613263                         284   \n",
       "2                         Colón           107390                          97   \n",
       "3                  Cruz del Eje            24366                          42   \n",
       "4                  General Roca            15965                          21   \n",
       "5            General San Martín            68017                          49   \n",
       "6                      Ischilín            14213                           7   \n",
       "7                 Juárez Celman            28023                          38   \n",
       "8                 Marcos Juárez            49366                          45   \n",
       "9                         Minas             2536                           1   \n",
       "10                        Pocho             2798                          11   \n",
       "11  Presidente Roque Sáenz Peña            16480                          22   \n",
       "12                      Punilla           107485                         190   \n",
       "13                   Río Cuarto           126096                         113   \n",
       "14                  Río Primero            22293                          17   \n",
       "15                     Río Seco             6492                           7   \n",
       "16                  Río Segundo            45261                          52   \n",
       "17                  San Alberto            19353                          28   \n",
       "18                   San Javier            29004                          37   \n",
       "19                    San Justo            96754                         100   \n",
       "20                  Santa María            58851                          55   \n",
       "21                   Sobremonte             1989                           1   \n",
       "22               Tercero Arriba            51336                          54   \n",
       "23                      Totoral             9071                           5   \n",
       "24                      Tulumba             7055                           6   \n",
       "25                        Unión            48481                          62   \n",
       "26              Total Provincia          1616117                        1423   \n",
       "\n",
       "    Total_viviendas_particular  Hogares  Total_población  \\\n",
       "0                        44100    28298            75911   \n",
       "1                       612979   553470          1505250   \n",
       "2                       107293    97732           295725   \n",
       "3                        24324    21425            67112   \n",
       "4                        15944    13556            36242   \n",
       "5                        67968    57886           154269   \n",
       "6                        14206    11660            36074   \n",
       "7                        27985    24974            68631   \n",
       "8                        49321    41894           107764   \n",
       "9                         2535     1815             4870   \n",
       "10                        2787     1911             5123   \n",
       "11                       16458    14169            37726   \n",
       "12                      107295    82780           221273   \n",
       "13                      125983   105896           279923   \n",
       "14                       22276    19338            58428   \n",
       "15                        6485     5150            15302   \n",
       "16                       45209    40511           113950   \n",
       "17                       19325    14665            42166   \n",
       "18                       28967    22830            63377   \n",
       "19                       96654    85574           230339   \n",
       "20                       58796    46836           144829   \n",
       "21                        1988     1515             4503   \n",
       "22                       51282    45250           120918   \n",
       "23                        9066     7531            22495   \n",
       "24                        7049     5147            14134   \n",
       "25                       48419    42587           114571   \n",
       "26                     1614694  1394400          3840905   \n",
       "\n",
       "    Población_en_viviendas_particulares  Población_en_viviendas_colectivas(1)  \\\n",
       "0                                 75462                                   449   \n",
       "1                               1498060                                  7090   \n",
       "2                                294511                                  1213   \n",
       "3                                 64748                                  2364   \n",
       "4                                 36064                                   178   \n",
       "5                                152397                                  1867   \n",
       "6                                 36023                                    51   \n",
       "7                                 68317                                   314   \n",
       "8                                107286                                   478   \n",
       "9                                  4855                                    15   \n",
       "10                                 5070                                    53   \n",
       "11                                37551                                   175   \n",
       "12                               219494                                  1779   \n",
       "13                               277979                                  1918   \n",
       "14                                58181                                   247   \n",
       "15                                15275                                    27   \n",
       "16                               113311                                   639   \n",
       "17                                42029                                   137   \n",
       "18                                62700                                   677   \n",
       "19                               228951                                  1384   \n",
       "20                               139012                                  5817   \n",
       "21                                 4381                                   122   \n",
       "22                               120207                                   711   \n",
       "23                                22473                                    22   \n",
       "24                                14092                                    42   \n",
       "25                               113635                                   936   \n",
       "26                              3812064                                 28705   \n",
       "\n",
       "    Población_situación_calle(vía pública)  Femenino  Masculino  \n",
       "0                                        0     38395      37516  \n",
       "1                                      100    789418     715832  \n",
       "2                                        1    151660     144065  \n",
       "3                                        0     33487      33625  \n",
       "4                                        0     18024      18218  \n",
       "5                                        5     79053      75216  \n",
       "6                                        0     18592      17482  \n",
       "7                                        0     34743      33888  \n",
       "8                                        0     55282      52482  \n",
       "9                                        0      2397       2473  \n",
       "10                                       0      2535       2588  \n",
       "11                                       0     19057      18669  \n",
       "12                                       0    115640     105633  \n",
       "13                                      26    145041     134882  \n",
       "14                                       0     29513      28915  \n",
       "15                                       0      7644       7658  \n",
       "16                                       0     58723      55227  \n",
       "17                                       0     21584      20582  \n",
       "18                                       0     32845      30532  \n",
       "19                                       4    117730     112609  \n",
       "20                                       0     71863      72966  \n",
       "21                                       0      2248       2255  \n",
       "22                                       0     62495      58423  \n",
       "23                                       0     11294      11201  \n",
       "24                                       0      7082       7052  \n",
       "25                                       0     58165      56406  \n",
       "26                                     136   1984510    1856395  "
      ]
     },
     "execution_count": 90,
     "metadata": {},
     "output_type": "execute_result"
    }
   ],
   "source": [
    "df_poblacion_2022"
   ]
  }
 ],
 "metadata": {
  "kernelspec": {
   "display_name": "Python 3 (ipykernel)",
   "language": "python",
   "name": "python3"
  },
  "language_info": {
   "codemirror_mode": {
    "name": "ipython",
    "version": 3
   },
   "file_extension": ".py",
   "mimetype": "text/x-python",
   "name": "python",
   "nbconvert_exporter": "python",
   "pygments_lexer": "ipython3",
   "version": "3.10.9"
  }
 },
 "nbformat": 4,
 "nbformat_minor": 5
}
